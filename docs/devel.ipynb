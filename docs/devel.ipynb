{
 "cells": [
  {
   "cell_type": "code",
   "execution_count": 1,
   "metadata": {},
   "outputs": [
    {
     "ename": "TypeError",
     "evalue": "__init__() missing 1 required positional argument: 'scores'",
     "output_type": "error",
     "traceback": [
      "\u001B[1;31m---------------------------------------------------------------------------\u001B[0m",
      "\u001B[1;31mTypeError\u001B[0m                                 Traceback (most recent call last)",
      "\u001B[1;32m<ipython-input-1-fe042391bd09>\u001B[0m in \u001B[0;36m<module>\u001B[1;34m\u001B[0m\n\u001B[0;32m      5\u001B[0m \u001B[1;32mfrom\u001B[0m \u001B[0mmalign\u001B[0m \u001B[1;32mimport\u001B[0m \u001B[0mtabulate_alms\u001B[0m\u001B[1;33m\u001B[0m\u001B[1;33m\u001B[0m\u001B[0m\n\u001B[0;32m      6\u001B[0m \u001B[1;33m\u001B[0m\u001B[0m\n\u001B[1;32m----> 7\u001B[1;33m \u001B[0mita_rus\u001B[0m \u001B[1;33m=\u001B[0m \u001B[0mmalign\u001B[0m\u001B[1;33m.\u001B[0m\u001B[0mScoringMatrix\u001B[0m\u001B[1;33m(\u001B[0m\u001B[0mfilename\u001B[0m\u001B[1;33m=\u001B[0m\u001B[1;34m\"ita_rus.matrix\"\u001B[0m\u001B[1;33m)\u001B[0m\u001B[1;33m\u001B[0m\u001B[1;33m\u001B[0m\u001B[0m\n\u001B[0m\u001B[0;32m      8\u001B[0m \u001B[0mita_grk\u001B[0m \u001B[1;33m=\u001B[0m \u001B[0mmalign\u001B[0m\u001B[1;33m.\u001B[0m\u001B[0mScoringMatrix\u001B[0m\u001B[1;33m(\u001B[0m\u001B[0mfilename\u001B[0m\u001B[1;33m=\u001B[0m\u001B[1;34m\"ita_grk.matrix\"\u001B[0m\u001B[1;33m)\u001B[0m\u001B[1;33m\u001B[0m\u001B[1;33m\u001B[0m\u001B[0m\n\u001B[0;32m      9\u001B[0m \u001B[1;33m\u001B[0m\u001B[0m\n",
      "\u001B[1;31mTypeError\u001B[0m: __init__() missing 1 required positional argument: 'scores'"
     ]
    }
   ],
   "source": [
    "import itertools\n",
    "\n",
    "# Import the library\n",
    "import malign\n",
    "from malign import tabulate_alms\n",
    "\n",
    "ita_rus = malign.ScoringMatrix(filename=\"ita_rus.matrix\")\n",
    "ita_grk = malign.ScoringMatrix(filename=\"ita_grk.matrix\")\n",
    "\n",
    "# Combine the two matrices into a single one, add some points, show a couple of examples\n",
    "full_matrix = malign.ScoringMatrix(scores={}, sub_matrices={(0,1):ita_rus, (0,2):ita_grk})\n",
    "full_matrix['o', 'в', 'ο'] = -4\n",
    "full_matrix['-', 'в', 'ο'] = -6.5\n",
    "full_matrix['o', '-', 'ο'] = 3\n",
    "full_matrix['o', '-', 'ς'] = -3\n",
    "full_matrix['i', '-', 'Ι'] = -4\n",
    "full_matrix['c', 'к', 'κ'] = 10\n",
    "full_matrix['-', 'в', 'ς'] = -10\n",
    "full_matrix['m', 'в', 'β'] = 10\n",
    "for key in [('-', 'к', 'ο'), ('i', 'а', 'Ι'), ('m', 'в', 'β'), ('m', '-', 'β'),\n",
    "            ('-', 'в', 'ς'), ('-', '-', 'ς'), ('o', '-', 'ς'), ('-', '-', 'ο'),\n",
    "            ('-', 'в', 'ο')]:\n",
    "    print(key, full_matrix[key])\n",
    "\n",
    "# Do maligns\n",
    "\n",
    "seqs = ['atomo', \"атом\", \"ατομο\"]\n",
    "print(tabulate_alms(malign.multi_align(seqs, method=\"anw\", k=4, matrix=full_matrix)))"
   ]
  }
 ],
 "metadata": {
  "kernelspec": {
   "name": "python3",
   "language": "python",
   "display_name": "Python 3"
  },
  "language_info": {
   "codemirror_mode": {
    "name": "ipython",
    "version": 3
   },
   "file_extension": ".py",
   "mimetype": "text/x-python",
   "name": "python",
   "nbconvert_exporter": "python",
   "pygments_lexer": "ipython3",
   "version": "3.7.7"
  }
 },
 "nbformat": 4,
 "nbformat_minor": 4
}