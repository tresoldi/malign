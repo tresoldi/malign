{
 "cells": [
  {
   "cell_type": "code",
   "execution_count": 1,
   "metadata": {},
   "outputs": [
    {
     "name": "stdout",
     "output_type": "stream",
     "text": [
      "('-', 'к', 'ο') -1.5666666666666667\n",
      "('i', 'а', 'Ι') 6.0\n",
      "('m', 'в', 'β') 10\n",
      "('m', '-', 'β') 2.5\n",
      "('-', 'в', 'ς') -10\n",
      "('-', '-', 'ς') -1.5\n",
      "('o', '-', 'ς') -3\n",
      "('-', '-', 'ο') 0.43333333333333335\n",
      "('-', 'в', 'ο') -6.5\n",
      "| Idx   | Seq   |   Score |  #0  |  #1  |  #2  |  #3  |  #4  |  #5  |\n",
      "|-------|-------|---------|------|------|------|------|------|------|\n",
      "| 0     | A     |    8.10 |  a   |  t   |  o   |  m   |  o   |      |\n",
      "| 0     | B     |    8.10 |  а   |  т   |  о   |  м   |  -   |      |\n",
      "| 0     | C     |    8.10 |  α   |  τ   |  ο   |  μ   |  ο   |      |\n",
      "|       |       |         |      |      |      |      |      |      |\n",
      "| 1     | A     |    7.20 |  a   |  t   |  o   |  m   |  o   |      |\n",
      "| 1     | B     |    7.20 |  а   |  т   |  о   |  -   |  м   |      |\n",
      "| 1     | C     |    7.20 |  α   |  τ   |  ο   |  μ   |  ο   |      |\n",
      "|       |       |         |      |      |      |      |      |      |\n",
      "| 2     | A     |    5.42 |  a   |  t   |  o   |  m   |  o   |  -   |\n",
      "| 2     | B     |    5.42 |  а   |  т   |  о   |  -   |  -   |  м   |\n",
      "| 2     | C     |    5.42 |  α   |  τ   |  ο   |  μ   |  ο   |  -   |\n",
      "|       |       |         |      |      |      |      |      |      |\n",
      "| 3     | A     |    5.42 |  a   |  t   |  o   |  m   |  o   |  -   |\n",
      "| 3     | B     |    5.42 |  а   |  т   |  -   |  -   |  о   |  м   |\n",
      "| 3     | C     |    5.42 |  α   |  τ   |  ο   |  μ   |  ο   |  -   |\n"
     ]
    }
   ],
   "source": [
    "import itertools\n",
    "\n",
    "# Import the library\n",
    "import malign\n",
    "from malign import tabulate_alms\n",
    "\n",
    "ita_rus = malign.ScoringMatrix(filename=\"ita_rus.matrix\")\n",
    "ita_grk = malign.ScoringMatrix(filename=\"ita_grk.matrix\")\n",
    "\n",
    "# Combine the two matrices into a single one, add some points, show a couple of examples\n",
    "full_matrix = malign.ScoringMatrix(scores={}, sub_matrices={(0,1):ita_rus, (0,2):ita_grk})\n",
    "full_matrix['o', 'в', 'ο'] = -4\n",
    "full_matrix['-', 'в', 'ο'] = -6.5\n",
    "full_matrix['o', '-', 'ο'] = 3\n",
    "full_matrix['o', '-', 'ς'] = -3\n",
    "full_matrix['i', '-', 'Ι'] = -4\n",
    "full_matrix['c', 'к', 'κ'] = 10\n",
    "full_matrix['-', 'в', 'ς'] = -10\n",
    "full_matrix['m', 'в', 'β'] = 10\n",
    "for key in [('-', 'к', 'ο'), ('i', 'а', 'Ι'), ('m', 'в', 'β'), ('m', '-', 'β'),\n",
    "            ('-', 'в', 'ς'), ('-', '-', 'ς'), ('o', '-', 'ς'), ('-', '-', 'ο'),\n",
    "            ('-', 'в', 'ο')]:\n",
    "    print(key, full_matrix[key])\n",
    "\n",
    "# Do maligns\n",
    "\n",
    "seqs = ['atomo', \"атом\", \"ατομο\"]\n",
    "print(tabulate_alms(malign.multi_align(seqs, method=\"anw\", k=4, matrix=full_matrix)))"
   ]
  }
 ],
 "metadata": {
  "kernelspec": {
   "display_name": "Python 3",
   "language": "python",
   "name": "python3"
  },
  "language_info": {
   "codemirror_mode": {
    "name": "ipython",
    "version": 3
   },
   "file_extension": ".py",
   "mimetype": "text/x-python",
   "name": "python",
   "nbconvert_exporter": "python",
   "pygments_lexer": "ipython3",
   "version": "3.7.7"
  }
 },
 "nbformat": 4,
 "nbformat_minor": 4
}
