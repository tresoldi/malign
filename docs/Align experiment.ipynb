{
 "cells": [
  {
   "cell_type": "markdown",
   "metadata": {},
   "source": [
    "# Example from data\n",
    "\n",
    "First, load libraries."
   ]
  },
  {
   "cell_type": "code",
   "execution_count": 1,
   "metadata": {},
   "outputs": [],
   "source": [
    "# Load Python standard libraries\n",
    "import csv\n",
    "from pathlib import Path\n",
    "import itertools\n",
    "from collections import Counter\n",
    "\n",
    "# Load our libraries\n",
    "import catcoocc\n",
    "import malign\n",
    "\n",
    "# Load data\n",
    "def read_data(data_path, fields, sep=\" \", delimiter=\"\\t\"):\n",
    "    # Read the pairs of sequences\n",
    "    pairs = []\n",
    "    with open(data_path) as csvfile:\n",
    "        reader = csv.DictReader(csvfile, delimiter=delimiter)\n",
    "        for row in reader:\n",
    "            pair = [row[field].split(sep) for field in fields]\n",
    "            pairs.append(pair)\n",
    "            \n",
    "    return pairs"
   ]
  },
  {
   "cell_type": "markdown",
   "metadata": {},
   "source": [
    "Now load data and experiment."
   ]
  },
  {
   "cell_type": "code",
   "execution_count": 2,
   "metadata": {},
   "outputs": [
    {
     "name": "stdout",
     "output_type": "stream",
     "text": [
      "Read 134373 for /home/tresoldi/src/malign/resources/cmudict/cmudict.tsv\n",
      "| Idx   | Seq   |   Score |  #0  |  #1  |  #2  |  #3  |  #4  |  #5  |  #6  |  #7  |\n",
      "|-------|-------|---------|------|------|------|------|------|------|------|------|\n",
      "| 0     | A     |   -0.79 |  B   |  E   |  R   |  G   |  L   |  U   |  N   |  D   |\n",
      "| 0     | B     |   -0.79 |  b   |  ɝ   |  ɡ   |  l   |  ʌ   |  n   |  d   |  -   |\n",
      "| Idx   | Seq   |   Score |  #0  |  #1  |  #2  |  #3  |  #4  |\n",
      "|-------|-------|---------|------|------|------|------|------|\n",
      "| 0     | A     |   -0.54 |  E   |  C   |  K   |  E   |  R   |\n",
      "| 0     | B     |   -0.54 |  -   |  ɛ   |  k   |  ɝ   |  -   |\n",
      "| Idx   | Seq   |   Score |  #0  |  #1  |  #2  |  #3  |  #4  |  #5  |\n",
      "|-------|-------|---------|------|------|------|------|------|------|\n",
      "| 0     | A     |   -0.75 |  P   |  A   |  N   |  D   |  E   |  R   |\n",
      "| 0     | B     |   -0.75 |  p   |  æ   |  n   |  d   |  ɝ   |  -   |\n",
      "| Idx   | Seq   |   Score |  #0  |  #1  |  #2  |  #3  |  #4  |  #5  |  #6  |\n",
      "|-------|-------|---------|------|------|------|------|------|------|------|\n",
      "| 0     | A     |   -0.77 |  S   |  T   |  A   |  L   |  D   |  E   |  R   |\n",
      "| 0     | B     |   -0.77 |  s   |  t   |  ɔ   |  l   |  d   |  ɝ   |  -   |\n",
      "| Idx   | Seq   |   Score |  #0  |  #1  |  #2  |  #3  |  #4  |  #5  |  #6  |  #7  |  #8  |  #9  |  #10  |  #11  |\n",
      "|-------|-------|---------|------|------|------|------|------|------|------|------|------|------|-------|-------|\n",
      "| 0     | A     |   -0.83 |  N   |  O   |  N   |  S   |  E   |  Q   |  U   |  I   |  T   |  U   |   R   |   S   |\n",
      "| 0     | B     |   -0.83 |  n   |  ɑ   |  n   |  s   |  ɛ   |  k   |  w   |  ɪ   |  t   |  ɝ   |   z   |   -   |\n",
      "=============\n",
      "| Idx   | Seq   |   Score |  #0  |  #1  |  #2  |  #3  |  #4  |  #5  |  #6  |  #7  |\n",
      "|-------|-------|---------|------|------|------|------|------|------|------|------|\n",
      "| 0     | A     |    0.82 |  B   |  E   |  R   |  G   |  L   |  U   |  N   |  D   |\n",
      "| 0     | B     |    0.82 |  b   |  -   |  ɝ   |  ɡ   |  l   |  ʌ   |  n   |  d   |\n",
      "| Idx   | Seq   |   Score |  #0  |  #1  |  #2  |  #3  |  #4  |\n",
      "|-------|-------|---------|------|------|------|------|------|\n",
      "| 0     | A     |    -0.2 |  E   |  C   |  K   |  E   |  R   |\n",
      "| 0     | B     |    -0.2 |  ɛ   |  -   |  k   |  -   |  ɝ   |\n",
      "| Idx   | Seq   |   Score |  #0  |  #1  |  #2  |  #3  |  #4  |  #5  |\n",
      "|-------|-------|---------|------|------|------|------|------|------|\n",
      "| 0     | A     |    0.66 |  P   |  A   |  N   |  D   |  E   |  R   |\n",
      "| 0     | B     |    0.66 |  p   |  æ   |  n   |  d   |  -   |  ɝ   |\n",
      "| Idx   | Seq   |   Score |  #0  |  #1  |  #2  |  #3  |  #4  |  #5  |  #6  |  #7  |\n",
      "|-------|-------|---------|------|------|------|------|------|------|------|------|\n",
      "| 0     | A     |   -0.08 |  S   |  T   |  A   |  -   |  L   |  D   |  E   |  R   |\n",
      "| 0     | B     |   -0.08 |  s   |  t   |  -   |  ɔ   |  l   |  d   |  -   |  ɝ   |\n",
      "| Idx   | Seq   |   Score |  #0  |  #1  |  #2  |  #3  |  #4  |  #5  |  #6  |  #7  |  #8  |  #9  |  #10  |  #11  |  #12  |\n",
      "|-------|-------|---------|------|------|------|------|------|------|------|------|------|------|-------|-------|-------|\n",
      "| 0     | A     |    0.34 |  N   |  O   |  N   |  S   |  E   |  -   |  Q   |  U   |  I   |  T   |   U   |   R   |   S   |\n",
      "| 0     | B     |    0.34 |  n   |  ɑ   |  n   |  s   |  ɛ   |  k   |  w   |  -   |  ɪ   |  t   |   -   |   ɝ   |   z   |\n"
     ]
    }
   ],
   "source": [
    "# Build full path\n",
    "base_path = Path(\"/home/tresoldi/src/malign\")\n",
    "full_path = base_path / \"resources\" / \"cmudict\" / \"cmudict.tsv\"\n",
    "\n",
    "\n",
    "pairs = read_data(full_path, [\"Orthography\", \"Segments\"])\n",
    "print(f\"Read {len(pairs)} for {full_path}\")\n",
    "\n",
    "import random\n",
    "sample = random.sample(pairs, 5)\n",
    "\n",
    "# First, demo with dumb alignments\n",
    "for pair in sample:\n",
    "    print(malign.tabulate_alms(malign.multi_align(pair, method=\"dumb\")))\n",
    "    \n",
    "# Collect co-occurrences\n",
    "# TODO: add gaps\n",
    "cooccs = list(itertools.chain(*[itertools.product(seq_a, seq_b) for seq_a, seq_b in pairs]))\n",
    "\n",
    "# Compute the approximate score for all co-occurrences\n",
    "counter_cc = Counter(cooccs)\n",
    "counter_a = Counter(itertools.chain(*[seq_a for seq_a, _ in pairs]))\n",
    "counter_b = Counter(itertools.chain(*[seq_b for _, seq_b in pairs]))\n",
    "\n",
    "scores = {}\n",
    "for coocc, count in counter_cc.items():\n",
    "    score = count / (counter_a[coocc[0]] * counter_b[coocc[1]])\n",
    "    scores[coocc] = score\n",
    "\n",
    "# scale over mean\n",
    "values = scores.values()\n",
    "mean = sum(values) / len(values) # use np\n",
    "score_diff = max(values) - min(values)\n",
    "\n",
    "# scale over mean\n",
    "correct = 10\n",
    "scaled_scores = {\n",
    "    pair: ((score - mean) / score_diff) * correct\n",
    "    for pair, score in scores.items()\n",
    "}\n",
    "\n",
    "scorer = malign.ScoringMatrix(scaled_scores)\n",
    "\n",
    "print(\"=============\")\n",
    "\n",
    "# First, demo with dumb alignments\n",
    "for pair in sample:\n",
    "    print(malign.tabulate_alms(malign.multi_align(pair, matrix=scorer, method=\"anw\")))"
   ]
  }
 ],
 "metadata": {
  "kernelspec": {
   "display_name": "Python 3",
   "language": "python",
   "name": "python3"
  },
  "language_info": {
   "codemirror_mode": {
    "name": "ipython",
    "version": 3
   },
   "file_extension": ".py",
   "mimetype": "text/x-python",
   "name": "python",
   "nbconvert_exporter": "python",
   "pygments_lexer": "ipython3",
   "version": "3.7.9"
  }
 },
 "nbformat": 4,
 "nbformat_minor": 4
}
