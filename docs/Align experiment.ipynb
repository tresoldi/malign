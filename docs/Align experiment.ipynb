{
 "cells": [
  {
   "cell_type": "markdown",
   "metadata": {},
   "source": [
    "# Example from data\n",
    "\n",
    "First, load libraries."
   ]
  },
  {
   "cell_type": "code",
   "execution_count": 6,
   "metadata": {},
   "outputs": [],
   "source": [
    "# Load Python standard libraries\n",
    "import csv\n",
    "from pathlib import Path\n",
    "import itertools\n",
    "from collections import Counter\n",
    "\n",
    "# Load our libraries\n",
    "import catcoocc\n",
    "import malign\n",
    "\n",
    "# Load data\n",
    "def read_data(data_path, fields, sep=\" \", delimiter=\"\\t\"):\n",
    "    # Read the pairs of sequences\n",
    "    pairs = []\n",
    "    with open(data_path, encoding=\"utf-8\") as csvfile:\n",
    "        reader = csv.DictReader(csvfile, delimiter=delimiter)\n",
    "        for row in reader:\n",
    "            pair = [row[field].split(sep) for field in fields]\n",
    "            pairs.append(pair)\n",
    "            \n",
    "    return pairs"
   ]
  },
  {
   "cell_type": "markdown",
   "metadata": {},
   "source": [
    "Now load data and experiment."
   ]
  },
  {
   "cell_type": "code",
   "execution_count": 7,
   "metadata": {},
   "outputs": [
    {
     "name": "stdout",
     "output_type": "stream",
     "text": [
      "Read 134373 for ..\\resources\\cmudict\\cmudict.tsv\n",
      "| Idx   | Seq   |   Score |  #0  |  #1  |  #2  |  #3  |  #4  |  #5  |  #6  |  #7  |\n",
      "|-------|-------|---------|------|------|------|------|------|------|------|------|\n",
      "| 0     | A     |    -0.9 |  A   |  N   |  A   |  L   |  Y   |  S   |  T   |  S   |\n",
      "| 0     | B     |    -0.9 |  æ   |  n   |  ʌ   |  l   |  ɪ   |  s   |  t   |  s   |\n",
      "| Idx   | Seq   |   Score |  #0  |  #1  |  #2  |  #3  |  #4  |  #5  |  #6  |  #7  |  #8  |  #9  |\n",
      "|-------|-------|---------|------|------|------|------|------|------|------|------|------|------|\n",
      "| 0     | A     |   -0.81 |  C   |  H   |  I   |  C   |  A   |  G   |  O   |  A   |  N   |  S   |\n",
      "| 0     | B     |   -0.81 |  ʃ   |  ʌ   |  k   |  ɑ   |  ɡ   |  oʊ  |  ʌ   |  n   |  z   |  -   |\n",
      "| Idx   | Seq   |   Score |  #0  |  #1  |  #2  |  #3  |  #4  |  #5  |  #6  |  #7  |\n",
      "|-------|-------|---------|------|------|------|------|------|------|------|------|\n",
      "| 0     | A     |   -0.79 |  L   |  A   |  V   |  E   |  N   |  D   |  E   |  R   |\n",
      "| 0     | B     |   -0.79 |  l   |  æ   |  v   |  ʌ   |  n   |  d   |  ɝ   |  -   |\n",
      "| Idx   | Seq   |   Score |  #0  |  #1  |  #2  |  #3  |  #4  |  #5  |\n",
      "|-------|-------|---------|------|------|------|------|------|------|\n",
      "| 0     | A     |   -0.75 |  B   |  A   |  R   |  R   |  E   |  L   |\n",
      "| 0     | B     |   -0.75 |  b   |  ɛ   |  ɹ   |  ʌ   |  l   |  -   |\n",
      "| Idx   | Seq   |   Score |  #0  |  #1  |  #2  |  #3  |  #4  |  #5  |  #6  |  #7  |  #8  |\n",
      "|-------|-------|---------|------|------|------|------|------|------|------|------|------|\n",
      "| 0     | A     |    -0.8 |  R   |  E   |  P   |  R   |  I   |  C   |  I   |  N   |  G   |\n",
      "| 0     | B     |    -0.8 |  ɹ   |  i   |  p   |  ɹ   |  aɪ  |  s   |  ɪ   |  ŋ   |  -   |\n",
      "=============\n",
      "| Idx   | Seq   |   Score |  #0  |  #1  |  #2  |  #3  |  #4  |  #5  |  #6  |  #7  |  #8  |\n",
      "|-------|-------|---------|------|------|------|------|------|------|------|------|------|\n",
      "| 0     | A     |   -0.01 |  A   |  N   |  A   |  L   |  Y   |  -   |  S   |  T   |  S   |\n",
      "| 0     | B     |   -0.01 |  æ   |  n   |  ʌ   |  l   |  -   |  ɪ   |  s   |  t   |  s   |\n",
      "| Idx   | Seq   |   Score |  #0  |  #1  |  #2  |  #3  |  #4  |  #5  |  #6  |  #7  |  #8  |  #9  |  #10  |\n",
      "|-------|-------|---------|------|------|------|------|------|------|------|------|------|------|-------|\n",
      "| 0     | A     |    0.02 |  C   |  H   |  I   |  -   |  C   |  A   |  G   |  O   |  A   |  N   |   S   |\n",
      "| 0     | B     |    0.02 |  ʃ   |  -   |  -   |  ʌ   |  k   |  ɑ   |  ɡ   |  oʊ  |  ʌ   |  n   |   z   |\n",
      "| Idx   | Seq   |   Score |  #0  |  #1  |  #2  |  #3  |  #4  |  #5  |  #6  |  #7  |  #8  |\n",
      "|-------|-------|---------|------|------|------|------|------|------|------|------|------|\n",
      "| 0     | A     |    0.53 |  L   |  A   |  V   |  E   |  -   |  N   |  D   |  E   |  R   |\n",
      "| 0     | B     |    0.53 |  l   |  æ   |  v   |  -   |  ʌ   |  n   |  d   |  -   |  ɝ   |\n",
      "| Idx   | Seq   |   Score |  #0  |  #1  |  #2  |  #3  |  #4  |  #5  |  #6  |  #7  |\n",
      "|-------|-------|---------|------|------|------|------|------|------|------|------|\n",
      "| 0     | A     |   -0.38 |  B   |  A   |  -   |  R   |  R   |  E   |  -   |  L   |\n",
      "| 0     | B     |   -0.38 |  b   |  -   |  ɛ   |  ɹ   |  -   |  -   |  ʌ   |  l   |\n",
      "| Idx   | Seq   |   Score |  #0  |  #1  |  #2  |  #3  |  #4  |  #5  |  #6  |  #7  |  #8  |\n",
      "|-------|-------|---------|------|------|------|------|------|------|------|------|------|\n",
      "| 0     | A     |    0.49 |  R   |  E   |  P   |  R   |  I   |  C   |  I   |  N   |  G   |\n",
      "| 0     | B     |    0.49 |  ɹ   |  i   |  p   |  ɹ   |  aɪ  |  s   |  ɪ   |  -   |  ŋ   |\n"
     ]
    }
   ],
   "source": [
    "# Build full path\n",
    "base_path = Path(\"..\")\n",
    "full_path = base_path / \"resources\" / \"cmudict\" / \"cmudict.tsv\"\n",
    "\n",
    "\n",
    "pairs = read_data(full_path, [\"Orthography\", \"Segments\"])\n",
    "print(f\"Read {len(pairs)} for {full_path}\")\n",
    "\n",
    "import random\n",
    "sample = random.sample(pairs, 5)\n",
    "\n",
    "# First, demo with dumb alignments\n",
    "for pair in sample:\n",
    "    print(malign.tabulate_alms(malign.multi_align(pair, method=\"dumb\")))\n",
    "    \n",
    "# Collect co-occurrences\n",
    "# TODO: add gaps\n",
    "cooccs = list(itertools.chain(*[itertools.product(seq_a, seq_b) for seq_a, seq_b in pairs]))\n",
    "\n",
    "# Compute the approximate score for all co-occurrences\n",
    "counter_cc = Counter(cooccs)\n",
    "counter_a = Counter(itertools.chain(*[seq_a for seq_a, _ in pairs]))\n",
    "counter_b = Counter(itertools.chain(*[seq_b for _, seq_b in pairs]))\n",
    "\n",
    "scores = {}\n",
    "for coocc, count in counter_cc.items():\n",
    "    score = count / (counter_a[coocc[0]] * counter_b[coocc[1]])\n",
    "    scores[coocc] = score\n",
    "\n",
    "# scale over mean\n",
    "values = scores.values()\n",
    "mean = sum(values) / len(values) # use np\n",
    "score_diff = max(values) - min(values)\n",
    "\n",
    "# scale over mean\n",
    "correct = 10\n",
    "scaled_scores = {\n",
    "    pair: ((score - mean) / score_diff) * correct\n",
    "    for pair, score in scores.items()\n",
    "}\n",
    "\n",
    "scorer = malign.ScoringMatrix(scaled_scores)\n",
    "\n",
    "print(\"=============\")\n",
    "\n",
    "# First, demo with dumb alignments\n",
    "for pair in sample:\n",
    "    print(malign.tabulate_alms(malign.multi_align(pair, matrix=scorer, method=\"anw\")))"
   ]
  }
 ],
 "metadata": {
  "kernelspec": {
   "display_name": "Python 3",
   "language": "python",
   "name": "python3"
  },
  "language_info": {
   "codemirror_mode": {
    "name": "ipython",
    "version": 3
   },
   "file_extension": ".py",
   "mimetype": "text/x-python",
   "name": "python",
   "nbconvert_exporter": "python",
   "pygments_lexer": "ipython3",
   "version": "3.7.9"
  }
 },
 "nbformat": 4,
 "nbformat_minor": 4
}