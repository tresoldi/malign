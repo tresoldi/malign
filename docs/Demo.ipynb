{
 "cells": [
  {
   "cell_type": "markdown",
   "metadata": {},
   "source": [
    "# Demonstration using data\n",
    "\n",
    "Run demonstration code on the various resources distributed with `malign`."
   ]
  },
  {
   "cell_type": "code",
   "execution_count": 1,
   "metadata": {},
   "outputs": [],
   "source": [
    "# Import Python standard libraries\n",
    "import csv\n",
    "import itertools\n",
    "from collections import Counter\n",
    "from pathlib import Path\n",
    "\n",
    "# Import 3rd-party libraries\n",
    "import catcoocc\n",
    "import malign\n",
    "from sklearn.preprocessing import StandardScaler\n",
    "import numpy as np\n",
    "\n",
    "\n",
    "# Build resource path\n",
    "RES_PATH = Path(\"../resources\")\n",
    "\n",
    "def read_data(filepath, fields, sep=\" \", delimiter=\"\\t\"):\n",
    "    \"\"\"\n",
    "    Read sequence pairs from CSV/TSV files.\n",
    "    \"\"\"\n",
    "\n",
    "    pairs = []\n",
    "    \n",
    "    with open(filepath, encoding=\"utf-8\") as csvfile:\n",
    "        reader = csv.DictReader(csvfile, delimiter=delimiter)\n",
    "        for row in reader:\n",
    "            pair = [row[field].split(sep) for field in fields]\n",
    "            pairs.append(pair)\n",
    "            \n",
    "    return pairs\n",
    "\n",
    "# TODO: have independent method, also using \"windows\"\n",
    "# TODO: not actually using the cooccs library\n",
    "# TODO: perform some kind of correction for low frequency, bonferroni perhaps?\n",
    "def infer_matrix(pairs, add_gaps=True):\n",
    "    \"\"\"\n",
    "    Infers a scoring matrix from a collection of pairs.\n",
    "    \"\"\"\n",
    "    \n",
    "    # Add gaps to mislength if necessary and requested\n",
    "    # TODO: use dumb alignments?\n",
    "    # TODO: make independent function\n",
    "    if add_gaps:\n",
    "        new_pairs = []\n",
    "        for pair in pairs:\n",
    "            len_a, len_b = len(pair[0]), len(pair[1])\n",
    "            if len_a < len_b:\n",
    "                new_pairs.append([pair[0] + [\"-\"]*(len_b-len_a), pair[1]])\n",
    "            elif len_a > len_b:\n",
    "                new_pairs.append([pair[0], pair[1] + [\"-\"]*(len_a-len_b)])\n",
    "            else:\n",
    "                new_pairs.append(pair)\n",
    "                \n",
    "        pairs = new_pairs\n",
    "    \n",
    "    # Collect co-occurrences over the whole sequences\n",
    "    cooccs = itertools.chain(*[itertools.product(seq_a, seq_b) for seq_a, seq_b in pairs])\n",
    "\n",
    "    # Compute the approximate-score for all co-occurrences\n",
    "    counter_cc = Counter(cooccs)\n",
    "    counter_a = Counter(itertools.chain(*[seq_a for seq_a, _ in pairs]))\n",
    "    counter_b = Counter(itertools.chain(*[seq_b for _, seq_b in pairs]))\n",
    "\n",
    "    # Collect scores as mean\n",
    "    abs_scores = {}\n",
    "    for (coocc_a, coocc_b), count in counter_cc.items():\n",
    "        score = count / (counter_a[coocc_a] * counter_b[coocc_b])\n",
    "        abs_scores[coocc_a, coocc_b] = score\n",
    "\n",
    "    # Scale scores\n",
    "    values = list(abs_scores.values())\n",
    "    arr_values = np.array(values).reshape(-1, 1)\n",
    "    scaler = StandardScaler()\n",
    "    scaler.fit(arr_values)\n",
    "\n",
    "    # Build new dictionary and return\n",
    "    scores = {pair:scaled_value for pair, scaled_value in zip(abs_scores.keys(), scaler.transform(arr_values))}\n",
    "    \n",
    "    return scores"
   ]
  },
  {
   "cell_type": "markdown",
   "metadata": {},
   "source": [
    "## cmudict"
   ]
  },
  {
   "cell_type": "code",
   "execution_count": 2,
   "metadata": {},
   "outputs": [
    {
     "name": "stdout",
     "output_type": "stream",
     "text": [
      "('X', 'k') [1.39503831]\n",
      "('X', 's') [1.15719308]\n",
      "('C', 'k') [1.12027641]\n",
      "('L', 'l') [1.25036742]\n",
      "('M', 'm') [2.67011908]\n",
      "('T', 't') [1.27287724]\n",
      "('P', 'p') [4.09731883]\n",
      "('O', 'oʊ') [1.071184]\n",
      "('Q', 'k') [1.66853672]\n",
      "('Q', 'w') [7.2508129]\n",
      "('D', 'd') [2.37499207]\n",
      "('B', 'b') [3.90002956]\n",
      "('H', 'h') [2.8892416]\n",
      "('K', 'k') [1.7384103]\n",
      "('U', 'aʊ') [1.62071127]\n",
      "('H', 'ʃ') [1.40738123]\n",
      "('U', 'j') [1.45847552]\n",
      "('U', 'u') [1.88066626]\n",
      "('F', 'f') [6.20621251]\n",
      "('G', 'ɡ') [3.16492652]\n",
      "('G', 'ŋ') [2.54272557]\n",
      "('W', 'w') [6.34641498]\n",
      "('T', 'θ') [1.17958661]\n",
      "('H', 'θ') [2.89269145]\n",
      "('T', 'ð') [1.0116901]\n",
      "('H', 'ð') [2.69997116]\n",
      "('U', 'ʊ') [1.20782672]\n",
      "('-', 'u') [1.88453353]\n",
      "('Y', 'i') [1.03595084]\n",
      "('V', 'v') [8.41124576]\n",
      "('W', 'aʊ') [1.98763216]\n",
      "('Z', 'z') [2.12897522]\n",
      "('J', 'dʒ') [11.38843662]\n",
      "('G', 'dʒ') [1.81468676]\n",
      "('C', 'tʃ') [1.79910842]\n",
      "('-', 'j') [4.85848347]\n",
      "('H', 'tʃ') [1.73290049]\n",
      "('Y', 'ɔɪ') [2.10706715]\n",
      "(\"'\", 's') [1.34705188]\n",
      "(\"'\", 'ɪ') [1.55184819]\n",
      "(\"'\", 'z') [2.54079986]\n",
      "('J', 'ɔɪ') [1.94430703]\n",
      "('J', 'j') [1.60970928]\n",
      "('J', 'ʒ') [3.84737913]\n",
      "('É', 'd') [2.09052195]\n",
      "('É', 'eɪ') [6.07814054]\n",
      "('É', 'dʒ') [14.03579452]\n",
      "('É', 'ɑ') [2.90283133]\n",
      "('À', 'd') [2.09052195]\n",
      "('À', 'eɪ') [6.07814054]\n",
      "('À', 'dʒ') [14.03579452]\n",
      "('À', 'ɑ') [2.90283133]\n",
      "('X', 'ʒ') [1.29003681]\n"
     ]
    }
   ],
   "source": [
    "# Read data\n",
    "# TODO: correct gaps used, as in \"non-sequitur\"\n",
    "pairs = read_data(RES_PATH / \"cmudict\" / \"cmudict.tsv\", [\"Orthography\", \"Segments\"])\n",
    "\n",
    "# Build first align demo\n",
    "scores = infer_matrix(pairs)\n",
    "for k, v in scores.items():\n",
    "    if v > 1:\n",
    "        print(k, v)"
   ]
  },
  {
   "cell_type": "code",
   "execution_count": 3,
   "metadata": {},
   "outputs": [
    {
     "name": "stdout",
     "output_type": "stream",
     "text": [
      "| Idx   | Seq   |   Score |  #0  |  #1  |  #2  |  #3  |  #4  |  #5  |  #6  |\n",
      "|-------|-------|---------|------|------|------|------|------|------|------|\n",
      "| 0     | A     |    0.56 |  G   |  E   |  I   |  T   |  N   |  E   |  R   |\n",
      "| 0     | B     |    0.56 |  ɡ   |  -   |  aɪ  |  t   |  n   |  -   |  ɝ   |\n",
      "| Idx   | Seq   |   Score |  #0  |  #1  |  #2  |  #3  |  #4  |  #5  |  #6  |  #7  |  #8  |  #9  |  #10  |\n",
      "|-------|-------|---------|------|------|------|------|------|------|------|------|------|------|-------|\n",
      "| 0     | A     |    0.68 |  M   |  I   |  S   |  M   |  A   |  N   |  A   |  -   |  G   |  E   |   D   |\n",
      "| 0     | B     |    0.68 |  m   |  ɪ   |  s   |  m   |  æ   |  n   |  -   |  ɪ   |  dʒ  |  -   |   d   |\n",
      "| Idx   | Seq   |   Score |  #0  |  #1  |  #2  |  #3  |  #4  |\n",
      "|-------|-------|---------|------|------|------|------|------|\n",
      "| 0     | A     |    2.02 |  B   |  -   |  U   |  G   |  H   |\n",
      "| 0     | B     |    2.02 |  b   |  j   |  u   |  ɡ   |  -   |\n",
      "| Idx   | Seq   |   Score |  #0  |  #1  |  #2  |  #3  |  #4  |  #5  |  #6  |  #7  |  #8  |  #9  |  #10  |  #11  |\n",
      "|-------|-------|---------|------|------|------|------|------|------|------|------|------|------|-------|-------|\n",
      "| 0     | A     |    0.36 |  N   |  A   |  T   |  I   |  O   |  N   |  A   |  L   |  I   |  S   |   -   |   M   |\n",
      "| 0     | B     |    0.36 |  n   |  æ   |  -   |  ʃ   |  ʌ   |  n   |  ʌ   |  l   |  ɪ   |  z   |   ʌ   |   m   |\n",
      "| Idx   | Seq   |   Score |  #0  |  #1  |  #2  |  #3  |  #4  |  #5  |  #6  |  #7  |  #8  |\n",
      "|-------|-------|---------|------|------|------|------|------|------|------|------|------|\n",
      "| 0     | A     |    0.89 |  P   |  E   |  R   |  K   |  I   |  N   |  S   |  O   |  N   |\n",
      "| 0     | B     |    0.89 |  p   |  -   |  ɝ   |  k   |  ɪ   |  n   |  s   |  ʌ   |  n   |\n"
     ]
    },
    {
     "name": "stderr",
     "output_type": "stream",
     "text": [
      "<__array_function__ internals>:5: VisibleDeprecationWarning: Creating an ndarray from ragged nested sequences (which is a list-or-tuple of lists-or-tuples-or ndarrays with different lengths or shapes) is deprecated. If you meant to do this, you must specify 'dtype=object' when creating the ndarray.\n"
     ]
    }
   ],
   "source": [
    "import random\n",
    "\n",
    "scorer = malign.ScoringMatrix(scores)\n",
    "for pair in random.sample(pairs, 5):\n",
    "    print(malign.tabulate_alms(malign.multi_align(pair, matrix=scorer, method=\"anw\")))"
   ]
  },
  {
   "cell_type": "code",
   "execution_count": 3,
   "metadata": {},
   "outputs": [],
   "source": []
  }
 ],
 "metadata": {
  "kernelspec": {
   "display_name": "Python 3",
   "language": "python",
   "name": "python3"
  },
  "language_info": {
   "codemirror_mode": {
    "name": "ipython",
    "version": 3
   },
   "file_extension": ".py",
   "mimetype": "text/x-python",
   "name": "python",
   "nbconvert_exporter": "python",
   "pygments_lexer": "ipython3",
   "version": "3.7.9"
  }
 },
 "nbformat": 4,
 "nbformat_minor": 4
}