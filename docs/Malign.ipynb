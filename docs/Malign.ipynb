{
 "cells": [
  {
   "cell_type": "markdown",
   "metadata": {},
   "source": [
    "# Malign\n",
    "\n",
    "`malign` is a set of experimental methods for sequence alignment that allow:\n",
    "    \n",
    "    - a unique alphabet for each sequence\n",
    "    - computation of k-best alignments\n",
    "    - usage of assymetric information\n",
    "    - perform single-pass true multiple alignment (instead of combination of pairwise)\n",
    "    \n",
    "This notebook explores ideas on how to use it."
   ]
  },
  {
   "cell_type": "code",
   "execution_count": 1,
   "metadata": {},
   "outputs": [],
   "source": [
    "# Import the library\n",
    "import malign\n",
    "from malign import print_alms, print_malms"
   ]
  },
  {
   "cell_type": "markdown",
   "metadata": {},
   "source": [
    "The most stupid alignment method implemented in `malign` is the \"dumb\" one. It returns a single alignment for a number of sequences, padding spaces to the left and right without even considering the values of the sequences. It is used for bootstrapping a number of other alignment methods."
   ]
  },
  {
   "cell_type": "code",
   "execution_count": 2,
   "metadata": {
    "scrolled": false
   },
   "outputs": [
    {
     "name": "stdout",
     "output_type": "stream",
     "text": [
      "A 0 (0 / 0): - t r a - -\n",
      "B 0 (0 / 0): f a t a t a\n",
      "0 A {'seq': ['-', 't', 'r', 'a', '-', '-'], 'score': 0.5}\n",
      "0 B {'seq': ['-', 'f', 'r', 'a', '-', '-'], 'score': 0.5}\n",
      "0 C {'seq': ['b', 'a', 't', 'a', 't', 'a'], 'score': 1.0}\n",
      "0 D {'seq': ['-', 'v', 'i', 'r', 'p', '-'], 'score': 0.6666666666666667}\n",
      "0 E {'seq': ['-', '-', 'x', '-', '-', '-'], 'score': 0.16666666666666663}\n"
     ]
    }
   ],
   "source": [
    "# Perform pairwise dumb alignment\n",
    "seq_a = 'tra'\n",
    "seq_b = 'fatata'\n",
    "print_alms(malign.pw_align(seq_a, seq_b, method=\"dumb\"))\n",
    "\n",
    "# Perform multiwise dumb alignment\n",
    "seqs = ['tra', 'fra', 'batata', 'virp', 'x']\n",
    "print_malms(malign.multi_align(seqs, method=\"dumb\"))"
   ]
  }
 ],
 "metadata": {
  "kernelspec": {
   "display_name": "Python 3",
   "language": "python",
   "name": "python3"
  },
  "language_info": {
   "codemirror_mode": {
    "name": "ipython",
    "version": 3
   },
   "file_extension": ".py",
   "mimetype": "text/x-python",
   "name": "python",
   "nbconvert_exporter": "python",
   "pygments_lexer": "ipython3",
   "version": "3.7.7"
  }
 },
 "nbformat": 4,
 "nbformat_minor": 4
}
