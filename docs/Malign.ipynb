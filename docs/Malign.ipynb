{
 "cells": [
  {
   "cell_type": "markdown",
   "metadata": {},
   "source": [
    "# Malign\n",
    "\n",
    "`malign` is a set of experimental methods for sequence alignment that allow:\n",
    "    \n",
    "- a unique alphabet for each sequence\n",
    "- computation of k-best alignments\n",
    "- usage of assymetric information\n",
    "- perform single-pass true multiple alignment (instead of combination of pairwise)\n",
    "- while usable with any type of sequence, including biological, it is intended for linguistic usage mostly\n",
    "- gaps are full symbols, not \"bad\"\n",
    "- incomplete scoring matrices\n",
    "\n",
    "This notebook explores ideas on how to use it."
   ]
  },
  {
   "cell_type": "code",
   "execution_count": 1,
   "metadata": {},
   "outputs": [],
   "source": [
    "import itertools\n",
    "\n",
    "# Import the library\n",
    "import malign\n",
    "from malign import tabulate_alms"
   ]
  },
  {
   "cell_type": "markdown",
   "metadata": {},
   "source": [
    "The most stupid alignment method implemented in `malign` is the \"dumb\" one. It returns a single alignment for a number of sequences, padding spaces to the left and right without even considering the values of the sequences. It is used for bootstrapping a number of other alignment methods."
   ]
  },
  {
   "cell_type": "code",
   "execution_count": 2,
   "metadata": {
    "scrolled": true
   },
   "outputs": [
    {
     "name": "stdout",
     "output_type": "stream",
     "text": [
      "| Idx   | Seq   |   Score |  #0  |  #1  |  #2  |  #3  |  #4  |  #5  |\n",
      "|-------|-------|---------|------|------|------|------|------|------|\n",
      "| 0     | A     |    -0.9 |  -   |  t   |  r   |  a   |  -   |  -   |\n",
      "| 0     | B     |    -0.9 |  f   |  a   |  t   |  a   |  t   |  a   |\n",
      "\n",
      "| Idx   | Seq   |   Score |  #0  |  #1  |  #2  |  #3  |  #4  |  #5  |\n",
      "|-------|-------|---------|------|------|------|------|------|------|\n",
      "| 0     | A     |    0.33 |  -   |  t   |  r   |  a   |  -   |  -   |\n",
      "| 0     | B     |    0.33 |  -   |  f   |  r   |  a   |  -   |  -   |\n",
      "| 0     | C     |    0.33 |  b   |  a   |  t   |  a   |  t   |  a   |\n",
      "| 0     | D     |    0.33 |  -   |  v   |  i   |  r   |  p   |  -   |\n",
      "| 0     | E     |    0.33 |  -   |  -   |  x   |  -   |  -   |  -   |\n"
     ]
    }
   ],
   "source": [
    "# Perform pairwise dumb alignment\n",
    "seq_a = 'tra'\n",
    "seq_b = 'fatata'\n",
    "print(tabulate_alms(malign.multi_align([seq_a, seq_b], method=\"dumb\")))\n",
    "\n",
    "print()\n",
    "\n",
    "# Perform multiwise dumb alignment\n",
    "seqs = ['tra', 'fra', 'batata', 'virp', 'x']\n",
    "print(tabulate_alms(malign.multi_align(seqs, method=\"dumb\")))"
   ]
  },
  {
   "cell_type": "markdown",
   "metadata": {},
   "source": [
    "New advanced methods begin with our modified Needleman-Wunsch. The methods work on multidimensional transition matrices that include all symbols and gaps. All correspondences must be provided, even when dealing with the same alphabet.\n",
    "\n",
    "For illustration, let's start with a common DNA base matrix for pairwise sequence alignment:\n",
    "\n",
    "  |   | A  |  G |  C |  T | -  |\n",
    "  |---|----|----|----|----|----|\n",
    "  | A | 10 | -1 | -3 | -4 | -5 |\n",
    "  | G | -1 | 7  | -5 | -3 | -5 |\n",
    "  | C | -3 | -5 | 9  |  0 | -5 |\n",
    "  | T | -4 | -3 |  0 |  8 |-5  |\n",
    "  | - | -5 | -5 | -5 | -5 | 0  |\n",
    "\n",
    "Note that in this case the matrix is symmetric, but this is not necessary as we'll see later. This matrix is available as `malign.utils.DNA_MATRIX`.\n",
    "\n",
    "Here we start by performing some pairwise alignments on very simple genetic sequences. Note that the parameter `k` allows to return at most k alignments, in terms of best scores, if those are computed. This method is different from normal WN algorithm because it first computes alignments in terms of `seq_a` to `seq_b`, then in terms of `seq_b` to `seq_a`, and takes the mean score as representatitve of the alignment. The results are equal in this case, as the matrix is symmetric.\n",
    "\n",
    "Note that this is actually running a multiwise alignment under the hood already."
   ]
  },
  {
   "cell_type": "code",
   "execution_count": 3,
   "metadata": {
    "scrolled": true
   },
   "outputs": [
    {
     "name": "stdout",
     "output_type": "stream",
     "text": [
      "===== Alignment 1\n",
      "| Idx   | Seq   |   Score |  #0  |  #1  |  #2  |  #3  |  #4  |  #5  |  #6  |\n",
      "|-------|-------|---------|------|------|------|------|------|------|------|\n",
      "| 0     | A     |   -3.86 |  G   |  A   |  T   |  T   |  A   |  C   |  A   |\n",
      "| 0     | B     |   -3.86 |  -   |  -   |  -   |  -   |  -   |  -   |  A   |\n",
      "\n",
      "===== Alignment 2\n",
      "| Idx   | Seq   |   Score |  #0  |  #1  |  #2  |  #3  |  #4  |  #5  |  #6  |\n",
      "|-------|-------|---------|------|------|------|------|------|------|------|\n",
      "| 0     | A     |       1 |  G   |  A   |  T   |  T   |  A   |  C   |  A   |\n",
      "| 0     | B     |       1 |  -   |  A   |  T   |  T   |  -   |  T   |  -   |\n"
     ]
    }
   ],
   "source": [
    "# Perform pairwise, modifier NW alignment\n",
    "print(\"===== Alignment 1\")\n",
    "seq_a = \"GATTACA\"\n",
    "seq_b = \"A\"\n",
    "print(tabulate_alms(malign.multi_align([seq_a, seq_b], k=2, method=\"anw\", matrix=malign.utils.DNA_MATRIX)))\n",
    "\n",
    "print()\n",
    "\n",
    "print(\"===== Alignment 2\")\n",
    "seq_a = \"GATTACA\"\n",
    "seq_b = \"ATTT\"\n",
    "print(tabulate_alms(malign.multi_align([seq_a, seq_b], k=2, method=\"anw\", matrix=malign.utils.DNA_MATRIX)))"
   ]
  },
  {
   "cell_type": "markdown",
   "metadata": {},
   "source": [
    "But what if the matrix is not symmetric? This is not usually the case for genetic data, but let's for sake of experience simulate a condition where sequence B never has a T aligned with a C (from the \"point of view\" of A, the normal affinities hold). We simulate this by changing the matrix for (C, T), which is now different (not symmmetric) from (T, C), and check the results."
   ]
  },
  {
   "cell_type": "code",
   "execution_count": 4,
   "metadata": {},
   "outputs": [
    {
     "name": "stdout",
     "output_type": "stream",
     "text": [
      "| Idx   | Seq   |   Score |  #0  |  #1  |  #2  |  #3  |  #4  |  #5  |  #6  |\n",
      "|-------|-------|---------|------|------|------|------|------|------|------|\n",
      "| 0     | A     |    0.43 |  G   |  A   |  T   |  T   |  A   |  C   |  A   |\n",
      "| 0     | B     |    0.43 |  -   |  A   |  T   |  T   |  T   |  -   |  -   |\n",
      "|       |       |         |      |      |      |      |      |      |      |\n",
      "| 1     | A     |    0.43 |  G   |  A   |  T   |  T   |  A   |  C   |  A   |\n",
      "| 1     | B     |    0.43 |  -   |  A   |  T   |  T   |  -   |  -   |  T   |\n"
     ]
    }
   ],
   "source": [
    "# Perform pairwise, assymetric NW\n",
    "matrix = malign.utils.DNA_MATRIX.copy()\n",
    "matrix['C', 'T'] = -99\n",
    "print(tabulate_alms(malign.multi_align([seq_a, seq_b], k=4, method=\"anw\", matrix=matrix)))"
   ]
  },
  {
   "cell_type": "markdown",
   "metadata": {},
   "source": [
    "You can see that the algorithm now does its best not to align a C in sequence a to a T in sequence B. This can go to extremes, as in the first example below, even though the inverse alignment still work as it commonly does."
   ]
  },
  {
   "cell_type": "code",
   "execution_count": 5,
   "metadata": {
    "scrolled": true
   },
   "outputs": [
    {
     "name": "stdout",
     "output_type": "stream",
     "text": [
      "===== Alignment 1\n",
      "| Idx   | Seq   |   Score |  #0  |  #1  |  #2  |  #3  |  #4  |  #5  |  #6  |  #7  |\n",
      "|-------|-------|---------|------|------|------|------|------|------|------|------|\n",
      "| 0     | A     |    4.88 |  G   |  A   |  T   |  T   |  A   |  C   |  -   |  A   |\n",
      "| 0     | B     |    4.88 |  G   |  A   |  T   |  T   |  A   |  -   |  T   |  A   |\n",
      "|       |       |         |      |      |      |      |      |      |      |      |\n",
      "| 1     | A     |    4.88 |  G   |  A   |  T   |  T   |  A   |  -   |  C   |  A   |\n",
      "| 1     | B     |    4.88 |  G   |  A   |  T   |  T   |  A   |  T   |  -   |  A   |\n",
      "\n",
      "===== Alignment 2\n",
      "| Idx   | Seq   |   Score |  #0  |  #1  |  #2  |  #3  |  #4  |  #5  |  #6  |\n",
      "|-------|-------|---------|------|------|------|------|------|------|------|\n",
      "| 0     | A     |    7.57 |  G   |  A   |  T   |  T   |  A   |  T   |  A   |\n",
      "| 0     | B     |    7.57 |  G   |  A   |  T   |  T   |  A   |  C   |  A   |\n"
     ]
    }
   ],
   "source": [
    "print(\"===== Alignment 1\")\n",
    "print(tabulate_alms(malign.multi_align([\"GATTACA\", \"GATTATA\"], k=2, method=\"anw\", matrix=matrix)))\n",
    "\n",
    "print()\n",
    "\n",
    "print(\"===== Alignment 2\")\n",
    "print(tabulate_alms(malign.multi_align([\"GATTATA\", \"GATTACA\"], k=2, method=\"anw\", matrix=matrix)))"
   ]
  },
  {
   "cell_type": "markdown",
   "metadata": {},
   "source": [
    "The assymetry starts to make more sense when we start dealing with different alphabets, or at least with sequences that indeed from different domains. Take the example below, manually crafted, where we prepare a matrix to align the orthography of Italian and Russian cognates, both written with the standard orthographies. Note how the matrix is assymetric even in terms of gaps: there are some cases where a gap is more or less likely in the correspondence -- sometimes they are even higher than the correspondence to other graphemes.\n",
    "\n",
    "  |   | а  |  т |  о |  м | Я  | к  | в  | -  |\n",
    "  |---|----|----|----|----|----|----|----|----|\n",
    "  | a | 10 | -4 |  3 | -3 | 5  | -4 | -4 | -1 |\n",
    "  | t | -4 | 10 | -4 | -3 | -4 | -1 | -3 | -3 |\n",
    "  | o |  4 | -4 | 10 | -5 | 2  | -4 | -2 | 0  |\n",
    "  | m | -2 | -1 | -4 |  9 |-3  | -2 | 3  | 1  |\n",
    "  | G | -3 | 1  | -3 | -1 | -4 | 3  | -2 | 2  |\n",
    "  | i | 5  | -3 | 4  | 0  | 6  | -3 | -3 | 2  |\n",
    "  | c | -4 | -1 | -5 | -4 | -5 | 4  | 1  | -3 |\n",
    "  | - | 1  | -2 | -1 | 2  | 2  | -4 | 2  | 0  |"
   ]
  },
  {
   "cell_type": "code",
   "execution_count": 6,
   "metadata": {},
   "outputs": [
    {
     "name": "stdout",
     "output_type": "stream",
     "text": [
      "===== Alignment 1\n",
      "| Idx   | Seq   |   Score |  #0  |  #1  |  #2  |  #3  |  #4  |\n",
      "|-------|-------|---------|------|------|------|------|------|\n",
      "| 0     | A     |     7.4 |  a   |  t   |  o   |  m   |  o   |\n",
      "| 0     | B     |     7.4 |  а   |  т   |  о   |  м   |  -   |\n",
      "\n",
      "===== Alignment 2\n",
      "| Idx   | Seq   |   Score |  #0  |  #1  |  #2  |  #3  |  #4  |  #5  |  #6  |  #7  |\n",
      "|-------|-------|---------|------|------|------|------|------|------|------|------|\n",
      "| 0     | A     |    2.86 |  G   |  i   |  a   |  c   |  o   |  m   |  o   |      |\n",
      "| 0     | B     |    2.86 |  -   |  Я   |  -   |  к   |  о   |  в   |  -   |      |\n",
      "|       |       |         |      |      |      |      |      |      |      |      |\n",
      "| 1     | A     |    2.29 |  G   |  i   |  a   |  c   |  o   |  m   |  o   |      |\n",
      "| 1     | B     |    2.29 |  -   |  Я   |  -   |  к   |  о   |  -   |  в   |      |\n",
      "|       |       |         |      |      |      |      |      |      |      |      |\n",
      "| 2     | A     |    2.12 |  G   |  i   |  a   |  c   |  o   |  m   |  o   |  -   |\n",
      "| 2     | B     |    2.12 |  -   |  Я   |  -   |  к   |  о   |  -   |  -   |  в   |\n",
      "|       |       |         |      |      |      |      |      |      |      |      |\n",
      "| 3     | A     |    2.12 |  G   |  i   |  a   |  c   |  o   |  m   |  o   |  -   |\n",
      "| 3     | B     |    2.12 |  -   |  Я   |  -   |  к   |  -   |  -   |  о   |  в   |\n"
     ]
    }
   ],
   "source": [
    "ita_rus = malign.ScoringMatrix(filename=\"ita_rus.matrix\")\n",
    "\n",
    "print(\"===== Alignment 1\")\n",
    "print(tabulate_alms(malign.multi_align([\"atomo\", \"атом\"], k=2, method=\"anw\", matrix=ita_rus)))\n",
    "\n",
    "print()\n",
    "\n",
    "print(\"===== Alignment 2\")\n",
    "print(tabulate_alms(malign.multi_align([\"Giacomo\", \"Яков\"], k=4, method=\"anw\", matrix=ita_rus)))"
   ]
  },
  {
   "cell_type": "markdown",
   "metadata": {},
   "source": [
    "We can combine more domains for a multiple NW alignment; unlike most multiple NW methods, we don't build a tree internally because an evolutionary perspective does not necessarily apply in our cases (even in face of a unrooted tree); details are provided in the paper. Here we extend our matrix a bit with Greek cognates. Note that, for showcasing, we are only setting the actual correspondences, guiding the alignment a bit too much, and letting the algorithm fill the missing parts. Note that we add correspondences to two graphemes in Italian, \"v\", \"s\" which were not used in the example above.\n",
    "\n",
    "Note that we start with sparse matrix without much information -- one Italian letter, `G`, has no single information.\n",
    "\n",
    "The more balenced the information is in terms of strong and low association, the better it will usually be.\n",
    "\n",
    "  |   | -   |  Ι |  α |  β | κ  | μ   | ο  | ς  | τ  | ω  |\n",
    "  |---|-----|----|----|----|----|-----|----|----|----|----|\n",
    "  | - |     | -3 |    |    | -7 | -10 |    | -3 |    |    |\n",
    "  | G |     |    |    |    |    |     |    |    |    |    |\n",
    "  | a | -7  | 2  | 10 |    |    |     | 6  |    |    | 4  |\n",
    "  | c |     |    |    |    |  8 |     |    |    | 2  |    |\n",
    "  | i | -3  | 7  | 5  |    |    |     | 3  |    |    |    |\n",
    "  | m |     |    |    | 4  |    | 10  |    |    |    |    |\n",
    "  | o | -7  |    | 4  |    |    |     | 10 |    |    | 10 |\n",
    "  | s |     |    |    |    |    |     |    |  6 |    |    |\n",
    "  | t | -10 |    |    |    |  2 |     |    |    | 10 |    |\n",
    "  | v |     |    |    | 5  |    |     |    |    |    |    |"
   ]
  },
  {
   "cell_type": "code",
   "execution_count": 7,
   "metadata": {
    "scrolled": false
   },
   "outputs": [
    {
     "name": "stdout",
     "output_type": "stream",
     "text": [
      "===== Alignment 1\n",
      "| Idx   | Seq   |   Score |  #0  |  #1  |  #2  |  #3  |  #4  |\n",
      "|-------|-------|---------|------|------|------|------|------|\n",
      "| 0     | A     |      10 |  a   |  t   |  o   |  m   |  o   |\n",
      "| 0     | B     |      10 |  α   |  τ   |  ο   |  μ   |  ο   |\n",
      "\n",
      "===== Alignment 2\n",
      "| Idx   | Seq   |   Score |  #0  |  #1  |  #2  |  #3  |  #4  |  #5  |  #6  |  #7  |\n",
      "|-------|-------|---------|------|------|------|------|------|------|------|------|\n",
      "| 0     | A     |    4.58 |  G   |  i   |  a   |  c   |  o   |  m   |  o   |  -   |\n",
      "| 0     | B     |    4.58 |  -   |  Ι   |  α   |  κ   |  ω   |  β   |  ο   |  ς   |\n",
      "\n",
      "('-', 'к', 'ο') -1.5666666666666667\n",
      "('i', 'а', 'Ι') 6.0\n",
      "('m', 'в', 'β') 10\n",
      "('m', '-', 'β') 2.5\n",
      "('-', 'в', 'ς') -10\n",
      "('-', '-', 'ς') -1.5\n",
      "('o', '-', 'ς') -3\n",
      "('-', '-', 'ο') 0.43333333333333335\n",
      "('-', 'в', 'ο') -6.5\n",
      "===== Alignment 1\n",
      "| Idx   | Seq   |   Score |  #0  |  #1  |  #2  |  #3  |  #4  |  #5  |\n",
      "|-------|-------|---------|------|------|------|------|------|------|\n",
      "| 0     | A     |    8.50 |  a   |  t   |  o   |  m   |  o   |      |\n",
      "| 0     | B     |    8.50 |  а   |  т   |  о   |  м   |  -   |      |\n",
      "| 0     | C     |    8.50 |  α   |  τ   |  ο   |  μ   |  ο   |      |\n",
      "|       |       |         |      |      |      |      |      |      |\n",
      "| 1     | A     |    7.20 |  a   |  t   |  o   |  m   |  o   |      |\n",
      "| 1     | B     |    7.20 |  а   |  т   |  о   |  -   |  м   |      |\n",
      "| 1     | C     |    7.20 |  α   |  τ   |  ο   |  μ   |  ο   |      |\n",
      "|       |       |         |      |      |      |      |      |      |\n",
      "| 2     | A     |    5.75 |  a   |  t   |  o   |  m   |  o   |  -   |\n",
      "| 2     | B     |    5.75 |  а   |  т   |  о   |  -   |  -   |  м   |\n",
      "| 2     | C     |    5.75 |  α   |  τ   |  ο   |  μ   |  ο   |  -   |\n",
      "|       |       |         |      |      |      |      |      |      |\n",
      "| 3     | A     |    5.75 |  a   |  t   |  o   |  m   |  o   |  -   |\n",
      "| 3     | B     |    5.75 |  а   |  т   |  -   |  -   |  о   |  м   |\n",
      "| 3     | C     |    5.75 |  α   |  τ   |  ο   |  μ   |  ο   |  -   |\n",
      "\n",
      "===== Alignment 2\n",
      "| Idx   | Seq   |   Score |  #0  |  #1  |  #2  |  #3  |  #4  |  #5  |  #6  |  #7  |\n",
      "|-------|-------|---------|------|------|------|------|------|------|------|------|\n",
      "| 0     | A     |    2.57 |  G   |  i   |  a   |  c   |  o   |  m   |  o   |      |\n",
      "| 0     | B     |    2.57 |  -   |  Я   |  -   |  к   |  о   |  в   |  -   |      |\n",
      "| 0     | C     |    2.57 |  Ι   |  α   |  κ   |  ω   |  β   |  ο   |  ς   |      |\n",
      "|       |       |         |      |      |      |      |      |      |      |      |\n",
      "| 1     | A     |    2.22 |  G   |  i   |  a   |  c   |  o   |  m   |  o   |  -   |\n",
      "| 1     | B     |    2.22 |  -   |  Я   |  -   |  к   |  о   |  -   |  -   |  в   |\n",
      "| 1     | C     |    2.22 |  -   |  Ι   |  α   |  κ   |  ω   |  β   |  ο   |  ς   |\n",
      "|       |       |         |      |      |      |      |      |      |      |      |\n",
      "| 2     | A     |    2.22 |  G   |  i   |  a   |  c   |  o   |  m   |  o   |  -   |\n",
      "| 2     | B     |    2.22 |  -   |  Я   |  -   |  к   |  -   |  -   |  о   |  в   |\n",
      "| 2     | C     |    2.22 |  -   |  Ι   |  α   |  κ   |  ω   |  β   |  ο   |  ς   |\n",
      "|       |       |         |      |      |      |      |      |      |      |      |\n",
      "| 3     | A     |    2.16 |  G   |  i   |  a   |  c   |  o   |  m   |  o   |  -   |\n",
      "| 3     | B     |    2.16 |  -   |  Я   |  -   |  к   |  о   |  -   |  в   |  -   |\n",
      "| 3     | C     |    2.16 |  -   |  Ι   |  α   |  κ   |  ω   |  β   |  ο   |  ς   |\n"
     ]
    }
   ],
   "source": [
    "ita_grk = malign.ScoringMatrix(filename=\"ita_grk.matrix\")\n",
    "\n",
    "\n",
    "print(\"===== Alignment 1\")\n",
    "print(tabulate_alms(malign.multi_align([\"atomo\", \"ατομο\"], k=2, method=\"anw\", matrix=ita_grk)))\n",
    "\n",
    "print()\n",
    "\n",
    "print(\"===== Alignment 2\")\n",
    "print(tabulate_alms(malign.multi_align([\"Giacomo\", \"Ιακωβος\"], k=4, method=\"anw\", matrix=ita_grk)))\n",
    "\n",
    "print()\n",
    "\n",
    "# Combine the two matrices into a single one, add some points, show a couple of examples\n",
    "full_matrix = malign.ScoringMatrix(scores={}, sub_matrices={(0,1):ita_rus, (0,2):ita_grk})\n",
    "full_matrix['o', 'в', 'ο'] = -4\n",
    "full_matrix['o', 'в', 'ς'] = -10\n",
    "full_matrix['-', 'в', 'ς'] = -7.5\n",
    "full_matrix['-', 'в', 'ο'] = -6.5\n",
    "full_matrix['o', '-', 'ο'] = 5\n",
    "full_matrix['o', '-', 'ς'] = -3\n",
    "full_matrix['i', '-', 'Ι'] = -4\n",
    "full_matrix['c', 'к', 'κ'] = 10\n",
    "full_matrix['-', 'в', 'ς'] = -10\n",
    "full_matrix['m', 'в', 'β'] = 10\n",
    "for key in [('-', 'к', 'ο'), ('i', 'а', 'Ι'), ('m', 'в', 'β'), ('m', '-', 'β'),\n",
    "            ('-', 'в', 'ς'), ('-', '-', 'ς'), ('o', '-', 'ς'), ('-', '-', 'ο'),\n",
    "            ('-', 'в', 'ο')]:\n",
    "    print(key, full_matrix[key])\n",
    "\n",
    "# Do maligns\n",
    "print(\"===== Alignment 1\")\n",
    "seqs = ['atomo', \"атом\", \"ατομο\"]\n",
    "print(tabulate_alms(malign.multi_align(seqs, method=\"anw\", k=4, matrix=full_matrix)))\n",
    "\n",
    "print()\n",
    "\n",
    "print(\"===== Alignment 2\")\n",
    "seqs = [\"Giacomo\", \"Яков\", \"Ιακωβος\"]\n",
    "print(tabulate_alms(malign.multi_align(seqs, method=\"anw\", k=4, matrix=full_matrix)))"
   ]
  },
  {
   "cell_type": "markdown",
   "metadata": {},
   "source": [
    "We can experiment with the canonical example from List (2014)"
   ]
  },
  {
   "cell_type": "code",
   "execution_count": 8,
   "metadata": {},
   "outputs": [],
   "source": [
    "seqs = [\"VOLDEMORT\", \"WALDEMAR\", \"VLADIMIR\", \"VOLODYMIR\"]\n",
    "\n",
    "voldemort_matrix = malign.utils.identity_matrix(seqs)"
   ]
  },
  {
   "cell_type": "code",
   "execution_count": 9,
   "metadata": {},
   "outputs": [
    {
     "name": "stdout",
     "output_type": "stream",
     "text": [
      "('T', '-', '-', '-') -1.0\n",
      "('T', 'R', 'R', 'R') 9.0\n",
      "('-', 'R', 'R', 'R') 9.0\n",
      "('R', 'R', 'R', 'R') 16.0\n",
      "('O', 'A', 'I', 'I') 4.0\n",
      "| Idx   | Seq   |   Score |  #0  |  #1  |  #2  |  #3  |  #4  |  #5  |  #6  |  #7  |  #8  |  #9  |\n",
      "|-------|-------|---------|------|------|------|------|------|------|------|------|------|------|\n",
      "| 0     | A     |    7.30 |  V   |  O   |  L   |  -   |  D   |  E   |  M   |  O   |  R   |  T   |\n",
      "| 0     | B     |    7.30 |  W   |  A   |  L   |  -   |  D   |  E   |  M   |  A   |  R   |  -   |\n",
      "| 0     | C     |    7.30 |  V   |  -   |  L   |  A   |  D   |  I   |  M   |  I   |  R   |  -   |\n",
      "| 0     | D     |    7.30 |  V   |  O   |  L   |  O   |  D   |  Y   |  M   |  I   |  R   |  -   |\n",
      "|       |       |         |      |      |      |      |      |      |      |      |      |      |\n",
      "| 1     | A     |    6.44 |  V   |  O   |  L   |  D   |  E   |  M   |  O   |  R   |  T   |      |\n",
      "| 1     | B     |    6.44 |  W   |  A   |  L   |  -   |  D   |  E   |  M   |  A   |  R   |      |\n",
      "| 1     | C     |    6.44 |  V   |  -   |  L   |  A   |  D   |  I   |  M   |  I   |  R   |      |\n",
      "| 1     | D     |    6.44 |  V   |  O   |  L   |  O   |  D   |  Y   |  M   |  I   |  R   |      |\n",
      "|       |       |         |      |      |      |      |      |      |      |      |      |      |\n",
      "| 2     | A     |    5.89 |  V   |  O   |  L   |  D   |  E   |  M   |  O   |  R   |  T   |      |\n",
      "| 2     | B     |    5.89 |  W   |  A   |  L   |  -   |  D   |  E   |  M   |  A   |  R   |      |\n",
      "| 2     | C     |    5.89 |  -   |  V   |  L   |  A   |  D   |  I   |  M   |  I   |  R   |      |\n",
      "| 2     | D     |    5.89 |  V   |  O   |  L   |  O   |  D   |  Y   |  M   |  I   |  R   |      |\n",
      "|       |       |         |      |      |      |      |      |      |      |      |      |      |\n",
      "| 3     | A     |    5.67 |  V   |  O   |  L   |  D   |  E   |  M   |  O   |  R   |  T   |      |\n",
      "| 3     | B     |    5.67 |  W   |  -   |  A   |  L   |  D   |  E   |  M   |  A   |  R   |      |\n",
      "| 3     | C     |    5.67 |  V   |  -   |  L   |  A   |  D   |  I   |  M   |  I   |  R   |      |\n",
      "| 3     | D     |    5.67 |  V   |  O   |  L   |  O   |  D   |  Y   |  M   |  I   |  R   |      |\n"
     ]
    }
   ],
   "source": [
    "for key in [('T', '-', '-', '-'),\n",
    "            ('T', 'R', 'R', 'R'), ('-', 'R', 'R', 'R'), ('R', 'R', 'R', 'R'), ('O', 'A', 'I', 'I')]:\n",
    "    print(key, voldemort_matrix[key])\n",
    "\n",
    "print(tabulate_alms(malign.multi_align(seqs, method=\"anw\", k=4, matrix=voldemort_matrix)))"
   ]
  },
  {
   "cell_type": "markdown",
   "metadata": {},
   "source": [
    "The NW algorithm, or better, the implementation in `malign`, cannot guarantee a minimum number of k-best paths, and is subject to the same kind of issues of normal NW algorithms, such as differences in global and local alignments. One new experimental method offered by the library, that also allows true multisequence alignment, uses graph theory and Yen's algorithm in order to look for alignments. The same matrices are used for both methods, with all the common caveats, such as aligning gaps to states."
   ]
  },
  {
   "cell_type": "code",
   "execution_count": 10,
   "metadata": {
    "scrolled": false
   },
   "outputs": [
    {
     "name": "stdout",
     "output_type": "stream",
     "text": [
      "===== Alignment 1\n",
      "| Idx   | Seq   |   Score |  #0  |  #1  |  #2  |  #3  |  #4  |\n",
      "|-------|-------|---------|------|------|------|------|------|\n",
      "| 0     | A     |    8.50 |  a   |  t   |  o   |  m   |  o   |\n",
      "| 0     | B     |    8.50 |  а   |  т   |  о   |  м   |  -   |\n",
      "| 0     | C     |    8.50 |  α   |  τ   |  ο   |  μ   |  ο   |\n",
      "|       |       |         |      |      |      |      |      |\n",
      "| 1     | A     |    7.20 |  a   |  t   |  o   |  m   |  o   |\n",
      "| 1     | B     |    7.20 |  а   |  т   |  о   |  -   |  м   |\n",
      "| 1     | C     |    7.20 |  α   |  τ   |  ο   |  μ   |  ο   |\n",
      "\n",
      "===== Alignment 2\n",
      "| Idx   | Seq   |   Score |  #0  |  #1  |  #2  |  #3  |  #4  |  #5  |  #6  |  #7  |\n",
      "|-------|-------|---------|------|------|------|------|------|------|------|------|\n",
      "| 0     | A     |    4.22 |  G   |  i   |  a   |  c   |  o   |  m   |  o   |  -   |\n",
      "| 0     | B     |    4.22 |  -   |  Я   |  -   |  к   |  о   |  в   |  -   |  -   |\n",
      "| 0     | C     |    4.22 |  -   |  Ι   |  α   |  κ   |  ω   |  β   |  ο   |  ς   |\n",
      "|       |       |         |      |      |      |      |      |      |      |      |\n",
      "| 1     | A     |    3.47 |  G   |  i   |  a   |  c   |  o   |  m   |  -   |  o   |\n",
      "| 1     | B     |    3.47 |  -   |  Я   |  -   |  к   |  о   |  в   |  -   |  -   |\n",
      "| 1     | C     |    3.47 |  -   |  Ι   |  α   |  κ   |  ω   |  β   |  ο   |  ς   |\n",
      "\n",
      "===== Alignment 3\n",
      "| Idx   | Seq   |   Score |  #0  |  #1  |  #2  |  #3  |  #4  |  #5  |  #6  |  #7  |  #8  |  #9  |\n",
      "|-------|-------|---------|------|------|------|------|------|------|------|------|------|------|\n",
      "| 0     | A     |    7.30 |  V   |  O   |  L   |  -   |  D   |  E   |  M   |  O   |  R   |  T   |\n",
      "| 0     | B     |    7.30 |  W   |  A   |  L   |  -   |  D   |  E   |  M   |  A   |  R   |  -   |\n",
      "| 0     | C     |    7.30 |  V   |  -   |  L   |  A   |  D   |  I   |  M   |  I   |  R   |  -   |\n",
      "| 0     | D     |    7.30 |  V   |  O   |  L   |  O   |  D   |  Y   |  M   |  I   |  R   |  -   |\n",
      "|       |       |         |      |      |      |      |      |      |      |      |      |      |\n",
      "| 1     | A     |    6.80 |  V   |  O   |  L   |  D   |  -   |  E   |  M   |  O   |  R   |  T   |\n",
      "| 1     | B     |    6.80 |  W   |  A   |  L   |  -   |  D   |  E   |  M   |  A   |  R   |  -   |\n",
      "| 1     | C     |    6.80 |  V   |  -   |  L   |  A   |  D   |  I   |  M   |  I   |  R   |  -   |\n",
      "| 1     | D     |    6.80 |  V   |  O   |  L   |  O   |  D   |  Y   |  M   |  I   |  R   |  -   |\n",
      "|       |       |         |      |      |      |      |      |      |      |      |      |      |\n",
      "| 2     | A     |    6.80 |  V   |  O   |  L   |  -   |  D   |  E   |  M   |  O   |  R   |  T   |\n",
      "| 2     | B     |    6.80 |  W   |  A   |  L   |  -   |  D   |  E   |  M   |  A   |  R   |  -   |\n",
      "| 2     | C     |    6.80 |  -   |  V   |  L   |  A   |  D   |  I   |  M   |  I   |  R   |  -   |\n",
      "| 2     | D     |    6.80 |  V   |  O   |  L   |  O   |  D   |  Y   |  M   |  I   |  R   |  -   |\n",
      "|       |       |         |      |      |      |      |      |      |      |      |      |      |\n",
      "| 3     | A     |    6.80 |  V   |  O   |  -   |  L   |  D   |  E   |  M   |  O   |  R   |  T   |\n",
      "| 3     | B     |    6.80 |  W   |  A   |  L   |  -   |  D   |  E   |  M   |  A   |  R   |  -   |\n",
      "| 3     | C     |    6.80 |  V   |  -   |  L   |  A   |  D   |  I   |  M   |  I   |  R   |  -   |\n",
      "| 3     | D     |    6.80 |  V   |  O   |  L   |  O   |  D   |  Y   |  M   |  I   |  R   |  -   |\n",
      "\n",
      "('L', 'L', 'L', 'L') 16.0\n"
     ]
    }
   ],
   "source": [
    "# Do maligns\n",
    "print(\"===== Alignment 1\")\n",
    "seqs = ['atomo', \"атом\", \"ατομο\"]\n",
    "print(tabulate_alms(malign.multi_align(seqs, method=\"yenksp\", k=2, matrix=full_matrix)))\n",
    "print()\n",
    "\n",
    "print(\"===== Alignment 2\")\n",
    "seqs = [\"Giacomo\", \"Яков\", \"Ιακωβος\"]\n",
    "print(tabulate_alms(malign.multi_align(seqs, method=\"yenksp\", k=2, matrix=full_matrix)))\n",
    "print()\n",
    "\n",
    "print(\"===== Alignment 3\")\n",
    "seqs = [\"VOLDEMORT\", \"WALDEMAR\", \"VLADIMIR\", \"VOLODYMIR\"]\n",
    "print(tabulate_alms(malign.multi_align(seqs, method=\"yenksp\", k=4, matrix=voldemort_matrix)))\n",
    "print()\n",
    "\n",
    "for key in [('L', 'L', 'L', 'L')]:\n",
    "    print(key, voldemort_matrix[key])"
   ]
  },
  {
   "cell_type": "markdown",
   "metadata": {},
   "source": [
    "One immediate thing to notice is, as with any alignment method, the need for a scorer, which can be harder for our methods given the multidimensional, asymmetric, and non-square matrices. `malign` offers a number of facilities to compute and refine matrices, including some unsupervised learning that tries to maximize the alignment scores (and which generates a preliminary matrix that can be refined by the user).\n",
    "\n",
    "We have been using them so far, let's investigate in more detail. Matrices will always try to fill missing point by learning from the ones provided. There are two main ways to provide seed data: either as a dictionary with full alignment sites, or as a submatrices (which can include full alignment sites). Let's start with the simplest, providing a full alignment site. We can initialize the matrix and check how both the data that was provided and that which was not are there (the latter being automatically filled in)"
   ]
  },
  {
   "cell_type": "code",
   "execution_count": 11,
   "metadata": {},
   "outputs": [
    {
     "name": "stdout",
     "output_type": "stream",
     "text": [
      "4\n",
      "-4.0\n",
      "-1.4394910644910646\n"
     ]
    }
   ],
   "source": [
    "s = {\n",
    "        (\"a\", \"A\", \"1\"): -1,\n",
    "        (\"a\", \"A\", \"2\"): 4,\n",
    "        (\"a\", \"A\", \"3\"): 3,\n",
    "        (\"a\", \"B\", \"1\"): 1,\n",
    "        (\"b\", \"A\", \"1\"): -10,\n",
    "        (\"b\", \"A\", \"2\"): 10,\n",
    "        (\"b\", \"A\", \"3\"): 10,\n",
    "        (\"b\", \"A\", \"4\"): 10,\n",
    "        (\"c\", \"B\", \"1\"): 2,\n",
    "        (\"c\", \"B\", \"2\"): 2,\n",
    "        (\"a\", \"-\", \"-\"): -2,\n",
    "        (\"b\", \"-\", \"-\"): -2,\n",
    "        (\"-\", \"A\", \"-\"): -20,\n",
    "        (\"-\", \"B\", \"-\"): -20,\n",
    "        (\"-\", \"-\", \"1\"): -3,\n",
    "        (\"a\", \"B\", \"-\"): -10,\n",
    "        (\"-\", \"A\", \"1\"): -100,\n",
    "        (\"-\", \"A\", \"2\"): -10,\n",
    "        (\"-\", \"B\", \"3\"): -5,\n",
    "    }\n",
    "m = malign.ScoringMatrix(s)\n",
    "print(m[\"a\", \"A\", \"2\"]) # provided\n",
    "print(m[\"-\", \"-\", \"3\"]) # inferred in first round\n",
    "print(m[\"c\", \"-\", \"4\"]) # inferred in second round"
   ]
  },
  {
   "cell_type": "markdown",
   "metadata": {},
   "source": [
    "We can now query submatrices, that in this case were inferred as well. In fact, as the product of possible domains is extremely large but usually we are only going to use `n` (for the number of domains), these are inferred on-demand and cached for reuse if necessary (using parameters for inferring that are set when instantiating the matrix)."
   ]
  },
  {
   "cell_type": "code",
   "execution_count": 12,
   "metadata": {},
   "outputs": [
    {
     "name": "stdout",
     "output_type": "stream",
     "text": [
      "4\n",
      "3\n",
      "2\n"
     ]
    }
   ],
   "source": [
    "print(m[\"a\", \"A\", None])\n",
    "print(m[\"a\", None, \"3\"])\n",
    "print(m[None, \"B\", \"1\"])"
   ]
  },
  {
   "cell_type": "markdown",
   "metadata": {},
   "source": [
    "The alternative, as we already did, is to initialize the scoring matrix with submatrices, which can include corretion points for full domain. We do this by creating full matrices for the sub-domains and providing them when instantiating. Note how the Itlaian Greek matrix here as far less information and we are not providing a Russian/Greek scorer (even though we could)."
   ]
  },
  {
   "cell_type": "code",
   "execution_count": 13,
   "metadata": {},
   "outputs": [
    {
     "name": "stdout",
     "output_type": "stream",
     "text": [
      "-5\n",
      "7.333333333333333\n",
      "-5.0\n",
      "7.333333333333333\n",
      "8.0\n",
      "10.0\n",
      "2.5\n",
      "4.75\n",
      "-5.0\n",
      "7.333333333333333\n",
      "8.0\n",
      "10.0\n",
      "2.5\n",
      "4.75\n"
     ]
    },
    {
     "data": {
      "text/plain": [
       "5.0"
      ]
     },
     "execution_count": 13,
     "metadata": {},
     "output_type": "execute_result"
    }
   ],
   "source": [
    "ita_rus = {(\"a\", \"а\"):10,\n",
    "(\"a\", \"т\"):-4,\n",
    "(\"a\", \"о\"):3,\n",
    "(\"a\", \"м\"):-3,\n",
    "(\"a\", \"Я\"):5,\n",
    "(\"a\", \"к\"):-4,\n",
    "(\"a\", \"в\"):-4,\n",
    "(\"a\", \"-\"):-1,\n",
    "\n",
    "(\"t\", \"а\"):-4,\n",
    "(\"t\", \"т\"):10,\n",
    "(\"t\", \"о\"):-4,\n",
    "(\"t\", \"м\"):-3,\n",
    "(\"t\", \"Я\"):-4,\n",
    "(\"t\", \"к\"):-1,\n",
    "(\"t\", \"в\"):-3,\n",
    "(\"t\", \"-\"):-3,\n",
    "\n",
    "(\"o\", \"а\"):4,\n",
    "(\"o\", \"т\"):-4,\n",
    "(\"o\", \"о\"):10,\n",
    "(\"o\", \"м\"):-5,\n",
    "(\"o\", \"Я\"):2,\n",
    "(\"o\", \"к\"):-4,\n",
    "(\"o\", \"в\"):-2,\n",
    "(\"o\", \"-\"):0,\n",
    "\n",
    "(\"m\", \"а\"):-2,\n",
    "(\"m\", \"т\"):-1,\n",
    "(\"m\", \"о\"):-4,\n",
    "(\"m\", \"м\"):9,\n",
    "(\"m\", \"Я\"):-3,\n",
    "(\"m\", \"к\"):-2,\n",
    "(\"m\", \"в\"):2,\n",
    "(\"m\", \"-\"):1,\n",
    "\n",
    "(\"G\", \"а\"):-3,\n",
    "(\"G\", \"т\"):1,\n",
    "(\"G\", \"о\"):-3,\n",
    "(\"G\", \"м\"):-1,\n",
    "(\"G\", \"Я\"):4,\n",
    "(\"G\", \"к\"):3,\n",
    "(\"G\", \"в\"):-2,\n",
    "(\"G\", \"-\"):2,\n",
    "\n",
    "(\"i\", \"а\"):5,\n",
    "(\"i\", \"т\"):-3,\n",
    "(\"i\", \"о\"):4,\n",
    "(\"i\", \"м\"):0,\n",
    "(\"i\", \"Я\"):6,\n",
    "(\"i\", \"к\"):-3,\n",
    "(\"i\", \"в\"):-3,\n",
    "(\"i\", \"-\"):2,\n",
    "\n",
    "(\"c\", \"а\"):-4,\n",
    "(\"c\", \"т\"):-1,\n",
    "(\"c\", \"о\"):-5,\n",
    "(\"c\", \"м\"):-4,\n",
    "(\"c\", \"Я\"):-5,\n",
    "(\"c\", \"к\"):4,\n",
    "(\"c\", \"в\"):1,\n",
    "(\"c\", \"-\"):-3,\n",
    "\n",
    "(\"-\", \"а\"):1,\n",
    "(\"-\", \"т\"):-2,\n",
    "(\"-\", \"о\"):-1,\n",
    "(\"-\", \"м\"):2,\n",
    "(\"-\", \"Я\"):2,\n",
    "(\"-\", \"к\"):-4,\n",
    "(\"-\", \"в\"):2,\n",
    "(\"-\", \"-\"):0,}\n",
    "\n",
    "ita_grk = {    \n",
    "  (\"a\", \"α\"):10,\n",
    "  (\"a\", \"-\"):-5,\n",
    "  (\"-\", \"α\"):-5,\n",
    "  (\"o\", \"α\"):4,\n",
    "  (\"i\", \"α\"):5,\n",
    "  (\"t\", \"τ\"):10,\n",
    "  (\"c\", \"τ\"):2,\n",
    "  (\"a\", \"ο\"):6,\n",
    "  (\"o\", \"ο\"):10,\n",
    "  (\"o\", \"-\"):-10,\n",
    "  (\"-\", \"ο\"):10,\n",
    "  (\"m\", \"μ\"):10,\n",
    "  (\"a\", \"Ι\"):2,\n",
    "  (\"i\", \"Ι\"):7,\n",
    "  (\"t\", \"κ\"):2,\n",
    "  (\"c\", \"κ\"):8,\n",
    "  (\"a\", \"ω\"):4,\n",
    "  (\"o\", \"ω\"):10,\n",
    "  (\"m\", \"β\"):4,\n",
    "  (\"v\", \"β\"):5,\n",
    "  (\"s\", \"ς\"):6,\n",
    "}\n",
    "    \n",
    "\n",
    "ita_rus_m = malign.ScoringMatrix(ita_rus)\n",
    "ita_grk_m = malign.ScoringMatrix(ita_grk)\n",
    "\n",
    "print(ita_rus_m[\"c\", \"Я\"]) # provided\n",
    "print(ita_grk_m[\"t\", \"μ\"]) # inferred\n",
    "\n",
    "# we provide a single point ita/rus/grk\n",
    "scorer = {(\"t\", \"т\", \"τ\"):10}\n",
    "sub_matrices = {\n",
    "    (0, 1): ita_rus_m,\n",
    "    (0, 2): ita_grk_m,\n",
    "}\n",
    "irg_m = malign.ScoringMatrix(scorer, sub_matrices=sub_matrices)\n",
    "\n",
    "print(irg_m[\"c\", \"Я\", None]) # provided\n",
    "print(irg_m[\"t\", None, \"μ\"]) # provided\n",
    "print(irg_m[None, \"Я\", \"μ\"]) # inferred\n",
    "print(irg_m[\"a\", \"а\", \"α\"]) # inferred\n",
    "print(irg_m[\"a\", \"а\", \"-\"]) # inferred\n",
    "print(irg_m[\"a\", \"Я\", \"μ\"]) # inferred\n",
    "\n",
    "irg_m.save(\"ita_rus_grk.matrix\")\n",
    "\n",
    "m2 = malign.ScoringMatrix(filename=\"ita_rus_grk.matrix\")\n",
    "print(m2[\"c\", \"Я\", None]) # provided\n",
    "print(m2[\"t\", None, \"μ\"]) # provided\n",
    "print(m2[None, \"Я\", \"μ\"]) # inferred\n",
    "print(m2[\"a\", \"а\", \"α\"]) # inferred\n",
    "print(m2[\"a\", \"а\", \"-\"]) # inferred\n",
    "print(m2[\"a\", \"Я\", \"μ\"]) # inferred\n",
    "\n",
    "m2['a', \"Я\", None]"
   ]
  },
  {
   "cell_type": "markdown",
   "metadata": {},
   "source": [
    "## Scoring Matrices\n",
    "\n",
    "Matrices in `malign` are ultimately just dictionaries that provide a score for alignment vectors, following an ordered list of domains (or alphabets), which are sets of symbols expressed by strings of at least one character (including the gap symbol, which for must purposes is a symbol like all others). Alignment sites can be full of partial, allowing to score sub-alignments; partial alignment vectors have the same length of the full vectors, with the unrelates sites marked by `None`. Partial alignment vectors must have at least two valid elements (and in most cases will, indeed, have only two, as used for pairwise alignments).\n",
    "\n",
    "There is not much to decide on the scores themselves, as their organization is free. By definition, the alignment of full gap vectors (that is, vectors where all non-None sites are gaps) is zero, and there is a general tendency that positively correlated sites have positive numbers and negatively correlated sites have negative numbers, but this is not mandatory. In most applications gaps are usually aligned with lower scores, but this is not necessary and, in fact, it is one of the reasons `malign` was developed.\n",
    "\n",
    "A scoring matrix might be complete or non-complete. Complete matrices are necessary for most operations and can generally be just Python dictionaries; for other cases, the `ScoringMatrix` object helps with the inference of missing data, allowing to complete a matrix.\n",
    "\n",
    "Here we create one matrix of domain two and print it. By default, the first domain is printed on the vertical."
   ]
  },
  {
   "cell_type": "code",
   "execution_count": 14,
   "metadata": {},
   "outputs": [
    {
     "name": "stdout",
     "output_type": "stream",
     "text": [
      "|    |   - |   X |   Y |\n",
      "|----|-----|-----|-----|\n",
      "| -  |   0 |  -3 |  -9 |\n",
      "| a  |  -3 |   0 |   8 |\n",
      "| b  |  -5 |   4 |   4 |\n",
      "| c  |   2 |  -1 |   7 |\n"
     ]
    }
   ],
   "source": [
    "# Define a scoring matrix for a simple, two domain system\n",
    "# alphabet a is {'-', 'a', 'b', 'c'}, alphabet b is {'-', 'X', 'Y'}\n",
    "vectors = {\n",
    "    ('-', '-') :  0.0,\n",
    "    ('-', 'X') : -3.0,\n",
    "    ('-', 'Y') : -9.0,\n",
    "    ('a', '-') : -3.0,\n",
    "    ('a', 'X') :  0.0,\n",
    "    ('a', 'Y') :  8.0,\n",
    "    ('b', '-') : -5.0,\n",
    "    ('b', 'X') :  4.0,\n",
    "    ('b', 'Y') :  4.0,\n",
    "    ('c', '-') :  2.0,\n",
    "    ('c', 'X') : -1.0,\n",
    "    ('c', 'Y') :  7.0,\n",
    "}\n",
    "\n",
    "matrix = malign.ScoringMatrix(vectors)\n",
    "print(matrix.tabulate())"
   ]
  },
  {
   "cell_type": "markdown",
   "metadata": {},
   "source": [
    "If some vector is missing, the `ScoringMatrix` will infer it when initialized (for complete vectors) or when necessary with cache (for incomplete vectors). Different methods are offered for such inferece."
   ]
  },
  {
   "cell_type": "code",
   "execution_count": 15,
   "metadata": {},
   "outputs": [
    {
     "name": "stdout",
     "output_type": "stream",
     "text": [
      "|    |     - |   X |    Y |\n",
      "|----|-------|-----|------|\n",
      "| -  |  0    |  -3 | -9   |\n",
      "| a  |  1.25 |   0 |  8   |\n",
      "| b  | -5    |   4 |  4   |\n",
      "| c  |  2    |  -1 |  0.8 |\n"
     ]
    }
   ],
   "source": [
    "v = vectors.copy()\n",
    "v.pop(('a', '-'))\n",
    "v.pop(('c', 'Y'))\n",
    "matrix = malign.ScoringMatrix(v)\n",
    "print(matrix.tabulate())"
   ]
  },
  {
   "cell_type": "markdown",
   "metadata": {},
   "source": [
    "As seen above, we can have partial vectors, and a matrix can be initialized with them as well.\n",
    "\n",
    "We can use different filling method."
   ]
  },
  {
   "cell_type": "code",
   "execution_count": 16,
   "metadata": {},
   "outputs": [
    {
     "name": "stdout",
     "output_type": "stream",
     "text": [
      "Standard fill method\n",
      "|    |   /-/- |     /-/i |   /-/j |     /X/- |   /X/i |     /X/j |   /Y/- |   /Y/i |   /Y/j |\n",
      "|----|--------|----------|--------|----------|--------|----------|--------|--------|--------|\n",
      "| -  |      0 | -4.33333 |     -8 | -5       |     -3 | -5       |     -5 |   -9   |     -6 |\n",
      "| a  |      0 | -3       |      3 |  2.33333 |      1 |  8       |      8 |    2.5 |      8 |\n",
      "| b  |      0 | -5       |     -6 |  4       |      4 |  5       |      4 |    4   |      4 |\n",
      "| c  |      0 |  2       |     -5 | -1       |     -1 |  1.14286 |     -7 |    7   |      7 |\n",
      "Distance fill method\n",
      "|    |   /-/- |     /-/i |   /-/j |     /X/- |     /X/i |      /X/j |   /Y/- |     /Y/i |   /Y/j |\n",
      "|----|--------|----------|--------|----------|----------|-----------|--------|----------|--------|\n",
      "| -  |      0 | -2.39286 |     -8 | -5       | -3       | -5        |     -5 | -9       |     -6 |\n",
      "| a  |      0 | -3       |      3 |  1.07692 |  1.08333 |  8        |      8 |  1.34615 |      8 |\n",
      "| b  |      0 | -5       |     -6 |  4       |  4       |  5        |      4 |  4       |      4 |\n",
      "| c  |      0 |  2       |     -5 | -1       | -1       |  0.464286 |     -7 |  7       |      7 |\n"
     ]
    }
   ],
   "source": [
    "# Define a scoring matrix for a simple, three domain system\n",
    "# alphabet a is {'-', 'a', 'b', 'c'}, alphabet b is {'-', 'X', 'Y'}, alphabet c is {'-', 'i', 'j'}\n",
    "# note that we already comment out some entries to make gaps\n",
    "vectors = {\n",
    "    ('-', '-', '-') :  0.0,\n",
    "#    ('-', '-', 'i') : -4.0,\n",
    "    (\"-\", \"-\", \"j\") : -8.0,\n",
    "\n",
    "    ('-', 'X', '-') : -5.0,\n",
    "    ('-', 'Y', '-') : -5.0,\n",
    "    ('a', '-', '-') :  0.0,\n",
    "#    ('a', 'X', '-') :  0.0,\n",
    "    ('a', 'Y', '-') :  8.0,\n",
    "    ('b', '-', '-') :  0.0,\n",
    "    ('b', 'X', '-') :  4.0,\n",
    "    ('b', 'Y', '-') :  4.0,\n",
    "    ('c', '-', '-') :  0.0,\n",
    "    ('c', 'X', '-') : -1.0,\n",
    "    ('c', 'Y', '-') : -7.0,    \n",
    "    \n",
    "    ('-', 'X', 'i') : -3.0,\n",
    "    ('-', 'Y', 'i') : -9.0,\n",
    "    ('a', '-', 'i') : -3.0,\n",
    "#    ('a', 'X', 'i') :  0.0,\n",
    "#    ('a', 'Y', 'i') :  8.0,\n",
    "    ('b', '-', 'i') : -5.0,\n",
    "    ('b', 'X', 'i') :  4.0,\n",
    "    ('b', 'Y', 'i') :  4.0,\n",
    "    ('c', '-', 'i') :  2.0,\n",
    "    ('c', 'X', 'i') : -1.0,\n",
    "    ('c', 'Y', 'i') :  7.0,\n",
    "    \n",
    "    ('-', 'X', 'j') : -5.0,\n",
    "    ('-', 'Y', 'j') : -6.0,\n",
    "    ('a', '-', 'j') :  3.0,\n",
    "    ('a', 'X', 'j') :  8.0,\n",
    "    ('a', 'Y', 'j') :  8.0,\n",
    "    ('b', '-', 'j') : -6.0,\n",
    "    ('b', 'X', 'j') :  5.0,\n",
    "    ('b', 'Y', 'j') :  4.0,\n",
    "    ('c', '-', 'j') : -5.0,\n",
    "#    ('c', 'X', 'j') :  6.0,\n",
    "    ('c', 'Y', 'j') :  7.0,\n",
    "}\n",
    "\n",
    "# TODO: have no fill method\n",
    "\n",
    "print(\"Standard fill method\")\n",
    "matrix = malign.ScoringMatrix(vectors)\n",
    "print(matrix.tabulate())\n",
    "\n",
    "print(\"Distance fill method\")\n",
    "matrix = malign.ScoringMatrix(vectors, fill_method=\"distance\")\n",
    "print(matrix.tabulate())"
   ]
  },
  {
   "cell_type": "markdown",
   "metadata": {},
   "source": [
    "`ScoringMatrix` also much facilitate the inferece of full alignments from collections of partial alignments, as might be available in most cases, such as when performing initial training. These can be combined with any number of actual full alignment. The partial alignments can also be sparse and it is possible to have complete missing data, as for the 12 domain below.\n",
    "\n",
    "Note the difference between individual pairwise scorers and a full one."
   ]
  },
  {
   "cell_type": "code",
   "execution_count": 17,
   "metadata": {},
   "outputs": [
    {
     "name": "stdout",
     "output_type": "stream",
     "text": [
      "Matrix (0,1)\n",
      "|    |    - |   X |   Y |\n",
      "|----|------|-----|-----|\n",
      "| -  |  0   |  -3 |   4 |\n",
      "| a  | -3   |   0 |   8 |\n",
      "| b  | -5   |  -1 |   4 |\n",
      "| c  | -0.5 |  -1 |   7 |\n",
      "Matrix (0,2)\n",
      "|    |     - |    i |   j |\n",
      "|----|-------|------|-----|\n",
      "| -  |  0    | -1.5 |   5 |\n",
      "| a  | -4    |  2   |   2 |\n",
      "| b  | -1.75 | -5   |   9 |\n",
      "| c  | -7    | -1.5 |   4 |\n",
      "Matrix (0,1,2)\n",
      "|    |   /-/- |   /-/i |   /-/j |   /X/- |   /X/i |   /X/j |   /Y/- |   /Y/i |   /Y/j |\n",
      "|----|--------|--------|--------|--------|--------|--------|--------|--------|--------|\n",
      "| -  |  0     |  -0.75 |   2.5  | -1.5   |  -2.25 |    1   |  2     |   1.25 |    4.5 |\n",
      "| a  | -3.5   |  -0.5  |  -0.5  | -2     |   1    |    1   |  2     |   5    |    5   |\n",
      "| b  | -3.375 |  -5    |   2    | -1.375 |  -3    |    4   |  1.125 |  -0.5  |    6.5 |\n",
      "| c  | -3.75  |  -1    |   1.75 | -4     |  -1.25 |    1.5 |  0     |   2.75 |    5.5 |\n"
     ]
    }
   ],
   "source": [
    "vector_01 = {\n",
    "    ('-', 'X') : -3.0,\n",
    "    ('a', '-') : -3.0,\n",
    "    ('a', 'X') :  0.0,\n",
    "    ('a', 'Y') :  8.0,\n",
    "    ('b', '-') : -5.0,\n",
    "    ('b', 'Y') :  4.0,\n",
    "    ('c', 'X') : -1.0,\n",
    "    ('c', 'Y') :  7.0,\n",
    "}\n",
    "vector_02 = {\n",
    "    ('a', '-') : -4.0,\n",
    "    ('a', 'i') :  2.0,\n",
    "    ('a', 'j') :  2.0,\n",
    "    ('b', 'i') : -5.0,\n",
    "    ('b', 'j') :  9.0,\n",
    "    ('c', '-') : -7.0,\n",
    "    ('c', 'j') :  4.0,\n",
    "}\n",
    "\n",
    "print(\"Matrix (0,1)\")\n",
    "matrix01 = malign.ScoringMatrix(vector_01)\n",
    "print(matrix01.tabulate())\n",
    "\n",
    "print(\"Matrix (0,2)\")\n",
    "matrix02 = malign.ScoringMatrix(vector_02)\n",
    "print(matrix02.tabulate())\n",
    "\n",
    "print(\"Matrix (0,1,2)\")\n",
    "matrix = malign.ScoringMatrix(scores={}, sub_matrices={(0,1):matrix01, (0,2):matrix02})\n",
    "print(matrix.tabulate())"
   ]
  },
  {
   "cell_type": "markdown",
   "metadata": {},
   "source": [
    "We can also quickly compute identity matrices when all domains are the same. They are automatically computed from list of sequences/sets for all domains."
   ]
  },
  {
   "cell_type": "code",
   "execution_count": 18,
   "metadata": {},
   "outputs": [
    {
     "name": "stdout",
     "output_type": "stream",
     "text": [
      "|    |   /-/- |   /-/a |   /-/b |   /a/- |   /a/a |   /a/b |   /b/- |   /b/a |   /b/b |\n",
      "|----|--------|--------|--------|--------|--------|--------|--------|--------|--------|\n",
      "| -  |      0 |     -3 |     -3 |     -3 |      8 |     -3 |     -3 |     -3 |      8 |\n",
      "| a  |     -3 |      8 |      1 |      8 |     27 |      8 |      1 |      8 |      8 |\n",
      "| b  |     -3 |      1 |      8 |      1 |      8 |      8 |      8 |      8 |     27 |\n"
     ]
    }
   ],
   "source": [
    "seqs = [\"ab\", \"aab\", \"bbb\"]\n",
    "\n",
    "id_matrix = malign.utils.identity_matrix(seqs, match=2, gap_score=-3)\n",
    "print(id_matrix.tabulate())"
   ]
  }
 ],
 "metadata": {
  "kernelspec": {
   "display_name": "Python 3",
   "language": "python",
   "name": "python3"
  },
  "language_info": {
   "codemirror_mode": {
    "name": "ipython",
    "version": 3
   },
   "file_extension": ".py",
   "mimetype": "text/x-python",
   "name": "python",
   "nbconvert_exporter": "python",
   "pygments_lexer": "ipython3",
   "version": "3.7.7"
  }
 },
 "nbformat": 4,
 "nbformat_minor": 4
}
