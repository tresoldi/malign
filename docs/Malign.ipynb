{
 "cells": [
  {
   "cell_type": "markdown",
   "source": [
    "# Malign\n",
    "\n",
    "Abstract: *We introduce a method for sequence alignment that allows to align different sequence domains and to employ asymmetric measures of scoring, including for gaps. Particularly for shorter sequences, it allows it to iteratively find the best alignment matrix without previous knowledge of the values. It also allows us to more easily have methods for the K best alignments. The method is particularly suitable for historical linguistics. We present a reference implementation that can be used.*\n",
    "\n",
    "## Introduction\n",
    "\n",
    "Sequence alignment mostly refers to bioinformatics, mostly as a way of arranging DNA, RNA, and aminoacid sequences to identify regions of similarity which tend to be interpreted as a consequence of functional, structural, or evolutionary relationships [Mount 2004]. Non-biological uses include alignments of time series in finance [Prinzie2006], natural language processing and social sciences (Optimal matching [Abbott2000]), and, our focus, lexeme alignment in historical and comparative linguistics [Kondrak2002, List2014] either for traditional or for Bayesian phylolinguistic approaches.\n",
    "\n",
    "But sometimes they find more similarity than homology (Morrison2015)\n",
    "\n",
    "primary homology assessment (alignment) and secondary homology assessment (tree building) -- Morrison2009; similarity is homology+analogy Morrison2018\n",
    "\n",
    "While short sequences, especially in pairwise, can be aligned manually, computational approaches quickly become faster when longer and/or multiple sequences are involved, and quickly become the only alternative. Methods fall into two main categories, of global alignments and local alignments.\n",
    "\n",
    "MONOTONIC\n",
    "\n",
    "This applies especially to linguistics. For example, when aligning reconstructed proto-germanic and latin words, we expect /f/ in the first to align with /p/ in the second due to Grimm’s law -- an alignment of identity (/f/ with /f/ and /p/ with /p/) should be penalized as it is more likely due to analogies than homologies. (check long vowels)\n",
    "\n",
    "*fōt- / pes\n",
    "*fadēr / pater\n",
    "\n",
    "This also involves gaps: when aligning Spanish with Italian, we expect an /e/ in the first to align with a gap in the second if in initial position and before a complex cluster\n",
    "\n",
    "spagnolo / espanhol\n",
    "strano / estranho\n",
    "\n",
    "No method reviewed seems to address all of these issues (including evolutionary HMMs (Holmes 2001, Mount2004). It falls under \"transliteration alignment\" (Covington1999, Pervouchine2009). Some address multiple alignments (Redelings2005)\n",
    "\n",
    "Few methods allow to use different alphabets [Edge2013?], usually only on pairwise alignments that don’t escalate to multiple ones, and none that we are aware allow to treat gaps as first-class symbols.\n",
    "\n",
    "\n",
    "### Our method\n",
    "\n",
    "Our method was developed with linguistic usage in mind, but can be used in any domain of knowledge including biology. However, we note that our first implementation might hit computational limits when applied to such domains, for example when aligning sequences composed of hundreds of elements, as it was written for initial ease of development and exploration in a high-level languages and with a high-level approach. Optimizations and rewritings are possible and we plan to address them in the future.\n",
    "\n",
    "Our methods allows: usage of a unique domain per sequence, trating gaps as first-class symbols, usage of asymmetric information (NAME), usage of incomplete scoring matrices, computation of k-best alignments (with individual scores)."
   ],
   "metadata": {}
  },
  {
   "cell_type": "code",
   "execution_count": 71,
   "source": [
    "# Import Python libraries (standard and 3rd-party) and `malign`\n",
    "import itertools\n",
    "import os.path\n",
    "from pathlib import Path\n",
    "\n",
    "import malign\n",
    "from malign import tabulate_alms\n",
    "\n",
    "# Get base dir (kinda hacky due to Jupyter)\n",
    "BASE_PATH = Path(os.path.dirname(os.path.realpath(\"__file__\"))).parent"
   ],
   "outputs": [],
   "metadata": {}
  },
  {
   "cell_type": "markdown",
   "source": [
    "## Description\n",
    "\n",
    "The methods work on multidimensional transition matrices that include all symbols and gaps. All correspondences must be provided, even when dealing with the same alphabet. For illustration, let's start with a common DNA base matrix for pairwise sequence alignment:\n",
    "\n",
    "  |   | A  |  G |  C |  T | -  |\n",
    "  |---|----|----|----|----|----|\n",
    "  | A | 10 | -1 | -3 | -4 | -5 |\n",
    "  | G | -1 | 7  | -5 | -3 | -5 |\n",
    "  | C | -3 | -5 | 9  |  0 | -5 |\n",
    "  | T | -4 | -3 |  0 |  8 |-5  |\n",
    "  | - | -5 | -5 | -5 | -5 | 0  |\n",
    "\n",
    "Note that in this case the matrix is symmetric, but this is not necessary as we'll see later. This matrix is available as `malign.utils.DNA_MATRIX`."
   ],
   "metadata": {}
  },
  {
   "cell_type": "code",
   "execution_count": 48,
   "source": [
    "# Perform pairwise, modifier NW alignment\n",
    "print(\"===== Alignment 1\")\n",
    "seq_a = \"GATTACA\"\n",
    "seq_b = \"A\"\n",
    "print(tabulate_alms(malign.multi_align([seq_a, seq_b], k=2, method=\"anw\", matrix=malign.utils.DNA_MATRIX)))\n",
    "\n",
    "print()\n",
    "\n",
    "print(\"===== Alignment 2\")\n",
    "seq_a = \"GATTACA\"\n",
    "seq_b = \"ATTT\"\n",
    "print(tabulate_alms(malign.multi_align([seq_a, seq_b], k=2, method=\"anw\", matrix=malign.utils.DNA_MATRIX)))"
   ],
   "outputs": [
    {
     "output_type": "stream",
     "name": "stdout",
     "text": [
      "===== Alignment 1\n",
      "| Idx   | Seq   |   Score |  #0  |  #1  |  #2  |  #3  |  #4  |  #5  |  #6  |\n",
      "|-------|-------|---------|------|------|------|------|------|------|------|\n",
      "| 0     | A     |   -3.86 |  G   |  A   |  T   |  T   |  A   |  C   |  A   |\n",
      "| 0     | B     |   -3.86 |  -   |  -   |  -   |  -   |  -   |  -   |  A   |\n",
      "\n",
      "===== Alignment 2\n",
      "| Idx   | Seq   |   Score |  #0  |  #1  |  #2  |  #3  |  #4  |  #5  |  #6  |\n",
      "|-------|-------|---------|------|------|------|------|------|------|------|\n",
      "| 0     | A     |       1 |  G   |  A   |  T   |  T   |  A   |  C   |  A   |\n",
      "| 0     | B     |       1 |  -   |  A   |  T   |  T   |  -   |  T   |  -   |\n"
     ]
    }
   ],
   "metadata": {}
  },
  {
   "cell_type": "markdown",
   "source": [
    "Now, imagine we don't want to allow C in sequence 1 to align with T in sequence 2, introducing an asymmetrical penalty as TC is still allowed. We do this by setting the value of CT to -99 and aligning again and checking the best alignments we can see how the algorithmt avoid at all costs this.\n",
    "\n",
    "You can see that the algorithm now does its best not to align a C in sequence a to a T in sequence B. This can go to extremes, as in the first example below, even though the inverse alignment still work as it commonly does."
   ],
   "metadata": {}
  },
  {
   "cell_type": "code",
   "execution_count": 49,
   "source": [
    "# Perform pairwise, assymetric NW\n",
    "matrix = malign.utils.DNA_MATRIX.copy()\n",
    "matrix['C', 'T'] = -99\n",
    "print(tabulate_alms(malign.multi_align([seq_a, seq_b], k=4, method=\"anw\", matrix=matrix)))"
   ],
   "outputs": [
    {
     "output_type": "stream",
     "name": "stdout",
     "text": [
      "| Idx   | Seq   |   Score |  #0  |  #1  |  #2  |  #3  |  #4  |  #5  |  #6  |\n",
      "|-------|-------|---------|------|------|------|------|------|------|------|\n",
      "| 0     | A     |    0.43 |  G   |  A   |  T   |  T   |  A   |  C   |  A   |\n",
      "| 0     | B     |    0.43 |  -   |  A   |  T   |  T   |  T   |  -   |  -   |\n",
      "|       |       |         |      |      |      |      |      |      |      |\n",
      "| 1     | A     |    0.43 |  G   |  A   |  T   |  T   |  A   |  C   |  A   |\n",
      "| 1     | B     |    0.43 |  -   |  A   |  T   |  T   |  -   |  -   |  T   |\n"
     ]
    }
   ],
   "metadata": {}
  },
  {
   "cell_type": "markdown",
   "source": [
    "This is even clearer... But what if the matrix is not symmetric? This is not usually the case for genetic data, but let's for sake of experience simulate a condition where sequence B never has a T aligned with a C (from the \"point of view\" of A, the normal affinities hold). We simulate this by changing the matrix for (C, T), which is now different (not symmmetric) from (T, C), and check the results."
   ],
   "metadata": {}
  },
  {
   "cell_type": "code",
   "execution_count": 50,
   "source": [
    "print(\"===== Alignment 1\")\n",
    "print(tabulate_alms(malign.multi_align([\"GATTACA\", \"GATTATA\"], k=2, method=\"anw\", matrix=matrix)))\n",
    "\n",
    "print()\n",
    "\n",
    "print(\"===== Alignment 2\")\n",
    "print(tabulate_alms(malign.multi_align([\"GATTATA\", \"GATTACA\"], k=2, method=\"anw\", matrix=matrix)))"
   ],
   "outputs": [
    {
     "output_type": "stream",
     "name": "stdout",
     "text": [
      "===== Alignment 1\n",
      "| Idx   | Seq   |   Score |  #0  |  #1  |  #2  |  #3  |  #4  |  #5  |  #6  |  #7  |\n",
      "|-------|-------|---------|------|------|------|------|------|------|------|------|\n",
      "| 0     | A     |    4.88 |  G   |  A   |  T   |  T   |  A   |  C   |  -   |  A   |\n",
      "| 0     | B     |    4.88 |  G   |  A   |  T   |  T   |  A   |  -   |  T   |  A   |\n",
      "|       |       |         |      |      |      |      |      |      |      |      |\n",
      "| 1     | A     |    4.88 |  G   |  A   |  T   |  T   |  A   |  -   |  C   |  A   |\n",
      "| 1     | B     |    4.88 |  G   |  A   |  T   |  T   |  A   |  T   |  -   |  A   |\n",
      "\n",
      "===== Alignment 2\n",
      "| Idx   | Seq   |   Score |  #0  |  #1  |  #2  |  #3  |  #4  |  #5  |  #6  |\n",
      "|-------|-------|---------|------|------|------|------|------|------|------|\n",
      "| 0     | A     |    7.57 |  G   |  A   |  T   |  T   |  A   |  T   |  A   |\n",
      "| 0     | B     |    7.57 |  G   |  A   |  T   |  T   |  A   |  C   |  A   |\n"
     ]
    }
   ],
   "metadata": {}
  },
  {
   "cell_type": "markdown",
   "source": [
    "The idea of assymetry starts to make more sense when we start dealing with different alphabets, or at least with sequences that indeed from different domains. Take the example below, manually crafted, where we prepare a matrix to align the orthography of Italian and Russian cognates, both written with the standard orthographies. Note how the matrix is assymetric even in terms of gaps: there are some cases where a gap is more or less likely in the correspondence -- sometimes they are even higher than the correspondence to other graphemes.\n",
    "\n",
    "  |   | а  |  т |  о |  м | Я  | к  | в  | -  |\n",
    "  |---|----|----|----|----|----|----|----|----|\n",
    "  | a | 10 | -4 |  3 | -3 | 5  | -4 | -4 | -1 |\n",
    "  | t | -4 | 10 | -4 | -3 | -4 | -1 | -3 | -3 |\n",
    "  | o |  4 | -4 | 10 | -5 | 2  | -4 | -2 | 0  |\n",
    "  | m | -2 | -1 | -4 |  9 |-3  | -2 | 3  | 1  |\n",
    "  | G | -3 | 1  | -3 | -1 | -4 | 3  | -2 | 2  |\n",
    "  | i | 5  | -3 | 4  | 0  | 6  | -3 | -3 | 2  |\n",
    "  | c | -4 | -1 | -5 | -4 | -5 | 4  | 1  | -3 |\n",
    "  | - | 1  | -2 | -1 | 2  | 2  | -4 | 2  | 0  |"
   ],
   "metadata": {}
  },
  {
   "cell_type": "code",
   "execution_count": 51,
   "source": [
    "ita_rus = malign.ScoringMatrix()\n",
    "ita_rus.load(\"ita_rus.matrix\")\n",
    "\n",
    "print(\"===== Alignment 1\")\n",
    "print(tabulate_alms(malign.multi_align([\"atomo\", \"атом\"], k=2, method=\"anw\", matrix=ita_rus)))\n",
    "\n",
    "print()\n",
    "\n",
    "print(\"===== Alignment 2\")\n",
    "print(tabulate_alms(malign.multi_align([\"Giacomo\", \"Яков\"], k=4, method=\"anw\", matrix=ita_rus)))"
   ],
   "outputs": [
    {
     "output_type": "stream",
     "name": "stdout",
     "text": [
      "===== Alignment 1\n",
      "| Idx   | Seq   |   Score |  #0  |  #1  |  #2  |  #3  |  #4  |\n",
      "|-------|-------|---------|------|------|------|------|------|\n",
      "| 0     | A     |     7.4 |  a   |  t   |  o   |  m   |  o   |\n",
      "| 0     | B     |     7.4 |  а   |  т   |  о   |  м   |  -   |\n",
      "\n",
      "===== Alignment 2\n",
      "| Idx   | Seq   |   Score |  #0  |  #1  |  #2  |  #3  |  #4  |  #5  |  #6  |  #7  |\n",
      "|-------|-------|---------|------|------|------|------|------|------|------|------|\n",
      "| 0     | A     |    2.86 |  G   |  i   |  a   |  c   |  o   |  m   |  o   |      |\n",
      "| 0     | B     |    2.86 |  -   |  Я   |  -   |  к   |  о   |  в   |  -   |      |\n",
      "|       |       |         |      |      |      |      |      |      |      |      |\n",
      "| 1     | A     |    2.29 |  G   |  i   |  a   |  c   |  o   |  m   |  o   |      |\n",
      "| 1     | B     |    2.29 |  -   |  Я   |  -   |  к   |  о   |  -   |  в   |      |\n",
      "|       |       |         |      |      |      |      |      |      |      |      |\n",
      "| 2     | A     |    2.12 |  G   |  i   |  a   |  c   |  o   |  m   |  o   |  -   |\n",
      "| 2     | B     |    2.12 |  -   |  Я   |  -   |  к   |  о   |  -   |  -   |  в   |\n",
      "|       |       |         |      |      |      |      |      |      |      |      |\n",
      "| 3     | A     |    2.12 |  G   |  i   |  a   |  c   |  o   |  m   |  o   |  -   |\n",
      "| 3     | B     |    2.12 |  -   |  Я   |  -   |  к   |  -   |  -   |  о   |  в   |\n"
     ]
    }
   ],
   "metadata": {}
  },
  {
   "cell_type": "markdown",
   "source": [
    "From here we can move to multiwise alignment, where again each sequence can have its domain. The extension works as expected: each potential alignment site has an individual score. Here, for example, we align italian, greek, and russian."
   ],
   "metadata": {}
  },
  {
   "cell_type": "code",
   "execution_count": 52,
   "source": [
    "ita_grk = malign.ScoringMatrix()\n",
    "ita_grk.load(\"ita_grk.matrix\")\n",
    "\n",
    "\n",
    "# Combine the two matrices into a single one, add some points, show a couple of examples\n",
    "# TODO: move to function\n",
    "\n",
    "scores_ita_rus = {\n",
    "            (key[0], key[1], None): value\n",
    "            for key, value in ita_rus.scores.items()\n",
    "        }\n",
    "scores_ita_grk = {\n",
    "            (key[0], None, key[1]): value\n",
    "            for key, value in ita_grk.scores.items()\n",
    "        }\n",
    "scores = {**scores_ita_rus, **scores_ita_grk}\n",
    "full_matrix = malign.ScoringMatrix(scores)\n",
    "\n",
    "full_matrix['o', 'в', 'ο'] = -4\n",
    "full_matrix['o', 'в', 'ς'] = -10\n",
    "full_matrix['-', 'в', 'ς'] = -7.5\n",
    "full_matrix['-', 'в', 'ο'] = -6.5\n",
    "full_matrix['o', '-', 'ο'] = 5\n",
    "full_matrix['o', '-', 'ς'] = -3\n",
    "full_matrix['i', '-', 'Ι'] = -4\n",
    "full_matrix['c', 'к', 'κ'] = 10\n",
    "full_matrix['-', 'в', 'ς'] = -10\n",
    "full_matrix['m', 'в', 'β'] = 10\n",
    "#for key in [('-', 'к', 'ο'), ('i', 'а', 'Ι'), ('m', 'в', 'β'), ('m', '-', 'β'),\n",
    "#            ('-', 'в', 'ς'), ('-', '-', 'ς'), ('o', '-', 'ς'), ('-', '-', 'ο'),\n",
    "#            ('-', 'в', 'ο')]:\n",
    "#    print(key, full_matrix[key])\n",
    "\n",
    "# Do maligns\n",
    "print(\"===== Alignment 1\")\n",
    "seqs = ['atomo', \"атом\", \"ατομο\"]\n",
    "print(tabulate_alms(malign.multi_align(seqs, method=\"anw\", k=4, matrix=full_matrix)))\n",
    "\n",
    "print()\n",
    "\n",
    "print(\"===== Alignment 2\")\n",
    "seqs = [\"Giacomo\", \"Яков\", \"Ιακωβος\"]\n",
    "print(tabulate_alms(malign.multi_align(seqs, method=\"anw\", k=4, matrix=full_matrix)))"
   ],
   "outputs": [
    {
     "output_type": "stream",
     "name": "stdout",
     "text": [
      "===== Alignment 1\n",
      "| Idx   | Seq   |   Score |  #0  |  #1  |  #2  |  #3  |  #4  |  #5  |  #6  |  #7  |\n",
      "|-------|-------|---------|------|------|------|------|------|------|------|------|\n",
      "| 0     | A     |    2.06 |  a   |  t   |  o   |  m   |  o   |      |      |      |\n",
      "| 0     | B     |    2.06 |  а   |  т   |  о   |  м   |  -   |      |      |      |\n",
      "| 0     | C     |    2.06 |  α   |  τ   |  ο   |  μ   |  ο   |      |      |      |\n",
      "|       |       |         |      |      |      |      |      |      |      |      |\n",
      "| 1     | A     |    1.30 |  a   |  -   |  -   |  t   |  o   |  m   |  o   |      |\n",
      "| 1     | B     |    1.30 |  а   |  т   |  о   |  м   |  -   |  -   |  -   |      |\n",
      "| 1     | C     |    1.30 |  α   |  -   |  -   |  τ   |  ο   |  μ   |  ο   |      |\n",
      "|       |       |         |      |      |      |      |      |      |      |      |\n",
      "| 2     | A     |    1.30 |  a   |  -   |  -   |  t   |  o   |  m   |  o   |      |\n",
      "| 2     | B     |    1.30 |  а   |  т   |  о   |  -   |  -   |  м   |  -   |      |\n",
      "| 2     | C     |    1.30 |  α   |  -   |  -   |  τ   |  ο   |  μ   |  ο   |      |\n",
      "|       |       |         |      |      |      |      |      |      |      |      |\n",
      "| 3     | A     |    0.99 |  a   |  -   |  -   |  t   |  o   |  m   |  -   |  o   |\n",
      "| 3     | B     |    0.99 |  а   |  т   |  о   |  м   |  -   |  -   |  -   |  -   |\n",
      "| 3     | C     |    0.99 |  α   |  -   |  -   |  τ   |  ο   |  -   |  μ   |  ο   |\n",
      "\n",
      "===== Alignment 2\n",
      "| Idx   | Seq   |   Score |  #0  |  #1  |  #2  |  #3  |  #4  |  #5  |  #6  |  #7  |\n",
      "|-------|-------|---------|------|------|------|------|------|------|------|------|\n",
      "| 0     | A     |    0.99 |  G   |  i   |  a   |  c   |  o   |  m   |  o   |  -   |\n",
      "| 0     | B     |    0.99 |  -   |  Я   |  -   |  к   |  о   |  -   |  в   |  -   |\n",
      "| 0     | C     |    0.99 |  -   |  Ι   |  α   |  κ   |  ω   |  β   |  ο   |  ς   |\n",
      "|       |       |         |      |      |      |      |      |      |      |      |\n",
      "| 1     | A     |    0.64 |  G   |  i   |  a   |  c   |  o   |  m   |  o   |  -   |\n",
      "| 1     | B     |    0.64 |  -   |  Я   |  -   |  к   |  о   |  -   |  -   |  в   |\n",
      "| 1     | C     |    0.64 |  -   |  Ι   |  α   |  κ   |  ω   |  β   |  ο   |  ς   |\n",
      "|       |       |         |      |      |      |      |      |      |      |      |\n",
      "| 2     | A     |    0.24 |  G   |  i   |  a   |  c   |  o   |  m   |  o   |  -   |\n",
      "| 2     | B     |    0.24 |  -   |  Я   |  -   |  к   |  -   |  -   |  о   |  в   |\n",
      "| 2     | C     |    0.24 |  -   |  Ι   |  α   |  κ   |  ω   |  β   |  ο   |  ς   |\n",
      "|       |       |         |      |      |      |      |      |      |      |      |\n",
      "| 3     | A     |    0.24 |  G   |  i   |  a   |  c   |  o   |  m   |  -   |  o   |\n",
      "| 3     | B     |    0.24 |  -   |  Я   |  -   |  к   |  о   |  -   |  -   |  в   |\n",
      "| 3     | C     |    0.24 |  -   |  Ι   |  α   |  κ   |  ω   |  β   |  ο   |  ς   |\n"
     ]
    }
   ],
   "metadata": {}
  },
  {
   "cell_type": "markdown",
   "source": [
    "The immediate reaction is probably the complexity of providing a scoring matrix: not only building one from zero would be extremely time consuming, but its dimensions can quickly becoming too big to manage. `malingn` offers tools to address this, both starting from zero and deriving a good matrix either from aligned or non aligned collections of sequences.\n",
    "\n",
    "### Matrices\n",
    "\n",
    "The simplest matrix is an identity matrix, that is, one in which all sequences share a domain and it is assumed that a symbol in one sequence will correspond to itself in other sequences. This can be demonstrated by following the canonical alignment example provided by List 2014: note that no information is given to the matrix builder other than the sequences that make it."
   ],
   "metadata": {}
  },
  {
   "cell_type": "code",
   "execution_count": 53,
   "source": [
    "seqs = [\"VOLDEMORT\", \"WALDEMAR\", \"VLADIMIR\", \"VOLODYMIR\"]\n",
    "\n",
    "voldemort_matrix = malign.utils.identity_matrix(seqs)\n",
    "\n",
    "for key in [('T', '-', '-', '-'),\n",
    "            ('T', 'R', 'R', 'R'), ('-', 'R', 'R', 'R'), ('R', 'R', 'R', 'R'), ('O', 'A', 'I', 'I')]:\n",
    "    print(key, voldemort_matrix[key])\n",
    "\n",
    "print(tabulate_alms(malign.multi_align(seqs, method=\"anw\", k=4, matrix=voldemort_matrix)))"
   ],
   "outputs": [
    {
     "output_type": "stream",
     "name": "stdout",
     "text": [
      "('T', '-', '-', '-') -1.0\n",
      "('T', 'R', 'R', 'R') 9.0\n",
      "('-', 'R', 'R', 'R') 9.0\n",
      "('R', 'R', 'R', 'R') 16.0\n",
      "('O', 'A', 'I', 'I') 4.0\n",
      "| Idx   | Seq   |   Score |  #0  |  #1  |  #2  |  #3  |  #4  |  #5  |  #6  |  #7  |  #8  |  #9  |\n",
      "|-------|-------|---------|------|------|------|------|------|------|------|------|------|------|\n",
      "| 0     | A     |    7.30 |  V   |  O   |  L   |  -   |  D   |  E   |  M   |  O   |  R   |  T   |\n",
      "| 0     | B     |    7.30 |  W   |  A   |  L   |  -   |  D   |  E   |  M   |  A   |  R   |  -   |\n",
      "| 0     | C     |    7.30 |  V   |  -   |  L   |  A   |  D   |  I   |  M   |  I   |  R   |  -   |\n",
      "| 0     | D     |    7.30 |  V   |  O   |  L   |  O   |  D   |  Y   |  M   |  I   |  R   |  -   |\n",
      "|       |       |         |      |      |      |      |      |      |      |      |      |      |\n",
      "| 1     | A     |    6.44 |  V   |  O   |  L   |  D   |  E   |  M   |  O   |  R   |  T   |      |\n",
      "| 1     | B     |    6.44 |  W   |  A   |  L   |  -   |  D   |  E   |  M   |  A   |  R   |      |\n",
      "| 1     | C     |    6.44 |  V   |  -   |  L   |  A   |  D   |  I   |  M   |  I   |  R   |      |\n",
      "| 1     | D     |    6.44 |  V   |  O   |  L   |  O   |  D   |  Y   |  M   |  I   |  R   |      |\n",
      "|       |       |         |      |      |      |      |      |      |      |      |      |      |\n",
      "| 2     | A     |    5.89 |  V   |  O   |  L   |  D   |  E   |  M   |  O   |  R   |  T   |      |\n",
      "| 2     | B     |    5.89 |  W   |  A   |  L   |  -   |  D   |  E   |  M   |  A   |  R   |      |\n",
      "| 2     | C     |    5.89 |  -   |  V   |  L   |  A   |  D   |  I   |  M   |  I   |  R   |      |\n",
      "| 2     | D     |    5.89 |  V   |  O   |  L   |  O   |  D   |  Y   |  M   |  I   |  R   |      |\n",
      "|       |       |         |      |      |      |      |      |      |      |      |      |      |\n",
      "| 3     | A     |    5.67 |  V   |  O   |  L   |  D   |  E   |  M   |  O   |  R   |  T   |      |\n",
      "| 3     | B     |    5.67 |  W   |  -   |  A   |  L   |  D   |  E   |  M   |  A   |  R   |      |\n",
      "| 3     | C     |    5.67 |  V   |  -   |  L   |  A   |  D   |  I   |  M   |  I   |  R   |      |\n",
      "| 3     | D     |    5.67 |  V   |  O   |  L   |  O   |  D   |  Y   |  M   |  I   |  R   |      |\n"
     ]
    }
   ],
   "metadata": {}
  },
  {
   "cell_type": "markdown",
   "source": [
    "## Test on simulated data\n",
    "\n",
    "## Test on real data"
   ],
   "metadata": {}
  },
  {
   "cell_type": "markdown",
   "source": [
    "## Conclusion"
   ],
   "metadata": {}
  },
  {
   "cell_type": "markdown",
   "source": [
    "# References\n",
    "\n",
    "- Letter-Phoneme Alignment: An Exploration. Sittichai Jiampojamarn Grzegorz Kondrak\n",
    "\n",
    "- The Number of Distinct Alignments of Two Strings 1999     Michael A CovingtonMichael A CovingtonE. Rodney Canfield\n",
    "\n",
    "- Transliteration Alignment. 2009 Vladimir PervouchineHaizhou LiHaizhou LiBo Lin\n",
    "\n",
    "- The Combinatorics of String Alignments: Reconsidering the Problem 2012 Steffen Eger\n",
    "\n",
    "- Joint Bayesian Estimation of Alignment and Phylogeny REDELINGS\n",
    "\n",
    "- Mount DM. (2004). Bioinformatics: Sequence and Genome Analysis (2nd ed.). Cold Spring Harbor Laboratory Press: Cold Spring Harbor, NY. ISBN 978-0-87969-608-5.\n",
    "\n",
    "- Prinzie A.; D. Van den Poel (2006). \"Incorporating sequential information into traditional classification models by using an element/position-sensitive SAM\". Decision Support Systems. 42 (2): 508–526. doi:10.1016/j.dss.2005.02.004. See also Prinzie and Van den Poel's paper Prinzie, A; Vandenpoel, D (2007). \"Predicting home-appliance acquisition sequences: Markov/Markov for Discrimination and survival analysis for modeling sequential information in NPTB models\". Decision Support Systems. 44 (1): 28–45. doi:10.1016/j.dss.2007.02.008.\n",
    "\n",
    "- Abbott A.; Tsay A. (2000). \"Sequence Analysis and Optimal Matching Methods in Sociology, Review and Prospect\". Sociological Methods and Research. 29 (1): 3–33. doi:10.1177/0049124100029001001. S2CID 121097811.\n",
    "\n",
    "- Kondrak, Grzegorz (2002). \"Algorithms for Language Reconstruction\" (PDF). University of Toronto, Ontario. Archived from the original (PDF) on 17 December 2008. Retrieved 21 January 2007.\n",
    "\n",
    "- Partially Local Multi-way Alignments Retzlaff2018\n",
    "\n",
    "- Collingridge, P.W., Kelly, S. MergeAlign: improving multiple sequence alignment performance by dynamic reconstruction of consensus multiple sequence alignments. BMC Bioinformatics 13, 117 (2012). https://doi.org/10.1186/1471-2105-13-117\n",
    "\n",
    "- Compositional Properties of Alignments - Sarah J. Berkemer, Christian Höner zu Siederdissen, Peter F. Stadler\n",
    "Genome alignment with graph data structures: a comparison -- Kehr, Birte 2014\n",
    "\n",
    "- Holmes, I. and Bruno, W. J. Evolutionary HMMs: a Bayesian approach to multiple alignment, Bioinformatics, 2001\n",
    "\n",
    "- Morrison, D. Molecular homology and multiple-sequence alignment: an analysis of concepts and practice, Australian Systematic Botany, 2015"
   ],
   "metadata": {}
  },
  {
   "cell_type": "markdown",
   "source": [
    "## Old\n",
    "\n",
    "The simplest alignment method implemented in `malign` is the \"dumb\" one. It returns a single alignment for a number of sequences, padding spaces to the left and right without even considering the values of the sequences. It is used for bootstrapping a number of other alignment methods."
   ],
   "metadata": {}
  },
  {
   "cell_type": "markdown",
   "source": [],
   "metadata": {}
  },
  {
   "cell_type": "code",
   "execution_count": 54,
   "source": [
    "# Perform pairwise dumb alignment\n",
    "seq_a = 'tra'\n",
    "seq_b = 'fatata'\n",
    "print(tabulate_alms(malign.multi_align([seq_a, seq_b], method=\"dumb\")))\n",
    "\n",
    "print()\n",
    "\n",
    "# Perform multiwise dumb alignment\n",
    "seqs = ['tra', 'fra', 'batata', 'virp', 'x']\n",
    "print(tabulate_alms(malign.multi_align(seqs, method=\"dumb\")))"
   ],
   "outputs": [
    {
     "output_type": "stream",
     "name": "stdout",
     "text": [
      "| Idx   | Seq   |   Score |  #0  |  #1  |  #2  |  #3  |  #4  |  #5  |\n",
      "|-------|-------|---------|------|------|------|------|------|------|\n",
      "| 0     | A     |    -1.3 |  -   |  t   |  r   |  a   |  -   |  -   |\n",
      "| 0     | B     |    -1.3 |  f   |  a   |  t   |  a   |  t   |  a   |\n",
      "\n",
      "| Idx   | Seq   |   Score |  #0  |  #1  |  #2  |  #3  |  #4  |  #5  |\n",
      "|-------|-------|---------|------|------|------|------|------|------|\n",
      "| 0     | A     |      -1 |  -   |  t   |  r   |  a   |  -   |  -   |\n",
      "| 0     | B     |      -1 |  -   |  f   |  r   |  a   |  -   |  -   |\n",
      "| 0     | C     |      -1 |  b   |  a   |  t   |  a   |  t   |  a   |\n",
      "| 0     | D     |      -1 |  -   |  v   |  i   |  r   |  p   |  -   |\n",
      "| 0     | E     |      -1 |  -   |  -   |  x   |  -   |  -   |  -   |\n"
     ]
    }
   ],
   "metadata": {
    "scrolled": true
   }
  },
  {
   "cell_type": "markdown",
   "source": [
    "New advanced methods begin with our modified Needleman-Wunsch. The methods work on multidimensional transition matrices that include all symbols and gaps. All correspondences must be provided, even when dealing with the same alphabet.\n",
    "\n",
    "For illustration, let's start with a common DNA base matrix for pairwise sequence alignment:\n",
    "\n",
    "  |   | A  |  G |  C |  T | -  |\n",
    "  |---|----|----|----|----|----|\n",
    "  | A | 10 | -1 | -3 | -4 | -5 |\n",
    "  | G | -1 | 7  | -5 | -3 | -5 |\n",
    "  | C | -3 | -5 | 9  |  0 | -5 |\n",
    "  | T | -4 | -3 |  0 |  8 |-5  |\n",
    "  | - | -5 | -5 | -5 | -5 | 0  |\n",
    "\n",
    "Note that in this case the matrix is symmetric, but this is not necessary as we'll see later. This matrix is available as `malign.utils.DNA_MATRIX`.\n",
    "\n",
    "Here we start by performing some pairwise alignments on very simple genetic sequences. Note that the parameter `k` allows to return at most k alignments, in terms of best scores, if those are computed. This method is different from normal WN algorithm because it first computes alignments in terms of `seq_a` to `seq_b`, then in terms of `seq_b` to `seq_a`, and takes the mean score as representatitve of the alignment. The results are equal in this case, as the matrix is symmetric.\n",
    "\n",
    "Note that this is actually running a multiwise alignment under the hood already."
   ],
   "metadata": {}
  },
  {
   "cell_type": "markdown",
   "source": [
    "We can combine more domains for a multiple NW alignment; unlike most multiple NW methods, we don't build a tree internally because an evolutionary perspective does not necessarily apply in our cases (even in face of a unrooted tree); details are provided in the paper. Here we extend our matrix a bit with Greek cognates. Note that, for showcasing, we are only setting the actual correspondences, guiding the alignment a bit too much, and letting the algorithm fill the missing parts. Note that we add correspondences to two graphemes in Italian, \"v\", \"s\" which were not used in the example above.\n",
    "\n",
    "Note that we start with sparse matrix without much information -- one Italian letter, `G`, has no single information.\n",
    "\n",
    "The more balenced the information is in terms of strong and low association, the better it will usually be.\n",
    "\n",
    "  |   | -   |  Ι |  α |  β | κ  | μ   | ο  | ς  | τ  | ω  |\n",
    "  |---|-----|----|----|----|----|-----|----|----|----|----|\n",
    "  | - |     | -3 |    |    | -7 | -10 |    | -3 |    |    |\n",
    "  | G |     |    |    |    |    |     |    |    |    |    |\n",
    "  | a | -7  | 2  | 10 |    |    |     | 6  |    |    | 4  |\n",
    "  | c |     |    |    |    |  8 |     |    |    | 2  |    |\n",
    "  | i | -3  | 7  | 5  |    |    |     | 3  |    |    |    |\n",
    "  | m |     |    |    | 4  |    | 10  |    |    |    |    |\n",
    "  | o | -7  |    | 4  |    |    |     | 10 |    |    | 10 |\n",
    "  | s |     |    |    |    |    |     |    |  6 |    |    |\n",
    "  | t | -10 |    |    |    |  2 |     |    |    | 10 |    |\n",
    "  | v |     |    |    | 5  |    |     |    |    |    |    |"
   ],
   "metadata": {}
  },
  {
   "cell_type": "code",
   "execution_count": 55,
   "source": [
    "ita_grk = malign.ScoringMatrix()\n",
    "ita_grk.load(\"ita_grk.matrix\")\n",
    "\n",
    "\n",
    "print(\"===== Alignment 1\")\n",
    "print(tabulate_alms(malign.multi_align([\"atomo\", \"ατομο\"], k=2, method=\"anw\", matrix=ita_grk)))\n",
    "\n",
    "print()\n",
    "\n",
    "print(\"===== Alignment 2\")\n",
    "print(tabulate_alms(malign.multi_align([\"Giacomo\", \"Ιακωβος\"], k=4, method=\"anw\", matrix=ita_grk)))\n",
    "\n",
    "print()\n"
   ],
   "outputs": [
    {
     "output_type": "stream",
     "name": "stdout",
     "text": [
      "===== Alignment 1\n",
      "| Idx   | Seq   |   Score |  #0  |  #1  |  #2  |  #3  |  #4  |\n",
      "|-------|-------|---------|------|------|------|------|------|\n",
      "| 0     | A     |      10 |  a   |  t   |  o   |  m   |  o   |\n",
      "| 0     | B     |      10 |  α   |  τ   |  ο   |  μ   |  ο   |\n",
      "\n",
      "===== Alignment 2\n",
      "| Idx   | Seq   |   Score |  #0  |  #1  |  #2  |  #3  |  #4  |  #5  |  #6  |  #7  |\n",
      "|-------|-------|---------|------|------|------|------|------|------|------|------|\n",
      "| 0     | A     |    4.58 |  G   |  i   |  a   |  c   |  o   |  m   |  o   |  -   |\n",
      "| 0     | B     |    4.58 |  -   |  Ι   |  α   |  κ   |  ω   |  β   |  ο   |  ς   |\n",
      "\n"
     ]
    }
   ],
   "metadata": {
    "scrolled": false
   }
  },
  {
   "cell_type": "markdown",
   "source": [
    "We can experiment with the canonical example from List (2014)"
   ],
   "metadata": {}
  },
  {
   "cell_type": "markdown",
   "source": [
    "The NW algorithm, or better, the implementation in `malign`, cannot guarantee a minimum number of k-best paths, and is subject to the same kind of issues of normal NW algorithms, such as differences in global and local alignments. One new experimental method offered by the library, that also allows true multisequence alignment, uses graph theory and Yen's algorithm in order to look for alignments. The same matrices are used for both methods, with all the common caveats, such as aligning gaps to states."
   ],
   "metadata": {}
  },
  {
   "cell_type": "code",
   "execution_count": 56,
   "source": [
    "# Do maligns\n",
    "print(\"===== Alignment 1\")\n",
    "seqs = ['atomo', \"атом\", \"ατομο\"]\n",
    "print(tabulate_alms(malign.multi_align(seqs, method=\"yenksp\", k=2, matrix=full_matrix)))\n",
    "print()\n",
    "\n",
    "print(\"===== Alignment 2\")\n",
    "seqs = [\"Giacomo\", \"Яков\", \"Ιακωβος\"]\n",
    "print(tabulate_alms(malign.multi_align(seqs, method=\"yenksp\", k=2, matrix=full_matrix)))\n",
    "print()\n",
    "\n",
    "print(\"===== Alignment 3\")\n",
    "seqs = [\"VOLDEMORT\", \"WALDEMAR\", \"VLADIMIR\", \"VOLODYMIR\"]\n",
    "print(tabulate_alms(malign.multi_align(seqs, method=\"yenksp\", k=4, matrix=voldemort_matrix)))\n",
    "print()\n",
    "\n",
    "for key in [('L', 'L', 'L', 'L')]:\n",
    "    print(key, voldemort_matrix[key])"
   ],
   "outputs": [
    {
     "output_type": "stream",
     "name": "stdout",
     "text": [
      "===== Alignment 1\n",
      "| Idx   | Seq   |   Score |  #0  |  #1  |  #2  |  #3  |  #4  |\n",
      "|-------|-------|---------|------|------|------|------|------|\n",
      "| 0     | A     |    2.06 |  a   |  t   |  o   |  m   |  o   |\n",
      "| 0     | B     |    2.06 |  а   |  т   |  о   |  м   |  -   |\n",
      "| 0     | C     |    2.06 |  α   |  τ   |  ο   |  μ   |  ο   |\n",
      "|       |       |         |      |      |      |      |      |\n",
      "| 1     | A     |    2.06 |  a   |  t   |  o   |  m   |  o   |\n",
      "| 1     | B     |    2.06 |  а   |  т   |  -   |  о   |  м   |\n",
      "| 1     | C     |    2.06 |  α   |  τ   |  ο   |  μ   |  ο   |\n",
      "\n",
      "===== Alignment 2\n",
      "| Idx   | Seq   |   Score |  #0  |  #1  |  #2  |  #3  |  #4  |  #5  |  #6  |  #7  |\n",
      "|-------|-------|---------|------|------|------|------|------|------|------|------|\n",
      "| 0     | A     |    3.14 |  G   |  i   |  a   |  c   |  o   |  m   |  o   |  -   |\n",
      "| 0     | B     |    3.14 |  -   |  Я   |  -   |  к   |  о   |  в   |  -   |  -   |\n",
      "| 0     | C     |    3.14 |  -   |  Ι   |  α   |  κ   |  ω   |  β   |  ο   |  ς   |\n",
      "|       |       |         |      |      |      |      |      |      |      |      |\n",
      "| 1     | A     |    2.41 |  G   |  i   |  a   |  c   |  o   |  m   |  o   |  -   |\n",
      "| 1     | B     |    2.41 |  -   |  -   |  Я   |  к   |  о   |  в   |  -   |  -   |\n",
      "| 1     | C     |    2.41 |  -   |  Ι   |  α   |  κ   |  ω   |  β   |  ο   |  ς   |\n",
      "\n",
      "===== Alignment 3\n",
      "| Idx   | Seq   |   Score |  #0  |  #1  |  #2  |  #3  |  #4  |  #5  |  #6  |  #7  |  #8  |  #9  |\n",
      "|-------|-------|---------|------|------|------|------|------|------|------|------|------|------|\n",
      "| 0     | A     |    7.30 |  V   |  O   |  L   |  -   |  D   |  E   |  M   |  O   |  R   |  T   |\n",
      "| 0     | B     |    7.30 |  W   |  A   |  L   |  -   |  D   |  E   |  M   |  A   |  R   |  -   |\n",
      "| 0     | C     |    7.30 |  V   |  -   |  L   |  A   |  D   |  I   |  M   |  I   |  R   |  -   |\n",
      "| 0     | D     |    7.30 |  V   |  O   |  L   |  O   |  D   |  Y   |  M   |  I   |  R   |  -   |\n",
      "|       |       |         |      |      |      |      |      |      |      |      |      |      |\n",
      "| 1     | A     |    6.80 |  V   |  O   |  L   |  D   |  -   |  E   |  M   |  O   |  R   |  T   |\n",
      "| 1     | B     |    6.80 |  W   |  A   |  L   |  -   |  D   |  E   |  M   |  A   |  R   |  -   |\n",
      "| 1     | C     |    6.80 |  V   |  -   |  L   |  A   |  D   |  I   |  M   |  I   |  R   |  -   |\n",
      "| 1     | D     |    6.80 |  V   |  O   |  L   |  O   |  D   |  Y   |  M   |  I   |  R   |  -   |\n",
      "|       |       |         |      |      |      |      |      |      |      |      |      |      |\n",
      "| 2     | A     |    6.80 |  V   |  O   |  L   |  -   |  D   |  E   |  M   |  O   |  R   |  T   |\n",
      "| 2     | B     |    6.80 |  W   |  A   |  L   |  -   |  D   |  E   |  M   |  A   |  R   |  -   |\n",
      "| 2     | C     |    6.80 |  -   |  V   |  L   |  A   |  D   |  I   |  M   |  I   |  R   |  -   |\n",
      "| 2     | D     |    6.80 |  V   |  O   |  L   |  O   |  D   |  Y   |  M   |  I   |  R   |  -   |\n",
      "|       |       |         |      |      |      |      |      |      |      |      |      |      |\n",
      "| 3     | A     |    6.80 |  V   |  O   |  -   |  L   |  D   |  E   |  M   |  O   |  R   |  T   |\n",
      "| 3     | B     |    6.80 |  W   |  A   |  L   |  -   |  D   |  E   |  M   |  A   |  R   |  -   |\n",
      "| 3     | C     |    6.80 |  V   |  -   |  L   |  A   |  D   |  I   |  M   |  I   |  R   |  -   |\n",
      "| 3     | D     |    6.80 |  V   |  O   |  L   |  O   |  D   |  Y   |  M   |  I   |  R   |  -   |\n",
      "\n",
      "('L', 'L', 'L', 'L') 16.0\n"
     ]
    }
   ],
   "metadata": {
    "scrolled": false
   }
  },
  {
   "cell_type": "markdown",
   "source": [
    "One immediate thing to notice is, as with any alignment method, the need for a scorer, which can be harder for our methods given the multidimensional, asymmetric, and non-square matrices. `malign` offers a number of facilities to compute and refine matrices, including some unsupervised learning that tries to maximize the alignment scores (and which generates a preliminary matrix that can be refined by the user).\n",
    "\n",
    "We have been using them so far, let's investigate in more detail. Matrices will always try to fill missing point by learning from the ones provided. There are two main ways to provide seed data: either as a dictionary with full alignment sites, or as a submatrices (which can include full alignment sites). Let's start with the simplest, providing a full alignment site. We can initialize the matrix and check how both the data that was provided and that which was not are there (the latter being automatically filled in)"
   ],
   "metadata": {}
  },
  {
   "cell_type": "code",
   "execution_count": 57,
   "source": [
    "s = {\n",
    "        (\"a\", \"A\", \"1\"): -1,\n",
    "        (\"a\", \"A\", \"2\"): 4,\n",
    "        (\"a\", \"A\", \"3\"): 3,\n",
    "        (\"a\", \"B\", \"1\"): 1,\n",
    "        (\"b\", \"A\", \"1\"): -10,\n",
    "        (\"b\", \"A\", \"2\"): 10,\n",
    "        (\"b\", \"A\", \"3\"): 10,\n",
    "        (\"b\", \"A\", \"4\"): 10,\n",
    "        (\"c\", \"B\", \"1\"): 2,\n",
    "        (\"c\", \"B\", \"2\"): 2,\n",
    "        (\"a\", \"-\", \"-\"): -2,\n",
    "        (\"b\", \"-\", \"-\"): -2,\n",
    "        (\"-\", \"A\", \"-\"): -20,\n",
    "        (\"-\", \"B\", \"-\"): -20,\n",
    "        (\"-\", \"-\", \"1\"): -3,\n",
    "        (\"a\", \"B\", \"-\"): -10,\n",
    "        (\"-\", \"A\", \"1\"): -100,\n",
    "        (\"-\", \"A\", \"2\"): -10,\n",
    "        (\"-\", \"B\", \"3\"): -5,\n",
    "    }\n",
    "m = malign.ScoringMatrix(s, impute_method=\"bayesian_ridge\")\n",
    "print(m[\"a\", \"A\", \"2\"]) # provided\n",
    "print(m[\"-\", \"-\", \"3\"]) # inferred in first round\n",
    "print(m[\"c\", \"-\", \"4\"]) # inferred in second round"
   ],
   "outputs": [
    {
     "output_type": "stream",
     "name": "stdout",
     "text": [
      "4\n",
      "-7.51025257320275\n",
      "-2.011800794795504\n"
     ]
    }
   ],
   "metadata": {}
  },
  {
   "cell_type": "markdown",
   "source": [
    "We can now query submatrices, that in this case were inferred as well. In fact, as the product of possible domains is extremely large but usually we are only going to use `n` (for the number of domains), these are inferred on-demand and cached for reuse if necessary (using parameters for inferring that are set when instantiating the matrix)."
   ],
   "metadata": {}
  },
  {
   "cell_type": "code",
   "execution_count": 58,
   "source": [
    "print(m[\"a\", \"A\", None])\n",
    "print(m[\"a\", None, \"3\"])\n",
    "print(m[None, \"B\", \"1\"])"
   ],
   "outputs": [
    {
     "output_type": "stream",
     "name": "stdout",
     "text": [
      "-5.561904013048922\n",
      "-1.955374542679186\n",
      "-8.21213556907098\n"
     ]
    }
   ],
   "metadata": {}
  },
  {
   "cell_type": "markdown",
   "source": [
    "The alternative, as we already did, is to initialize the scoring matrix with submatrices, which can include corretion points for full domain. We do this by creating full matrices for the sub-domains and providing them when instantiating. Note how the Itlaian Greek matrix here as far less information and we are not providing a Russian/Greek scorer (even though we could)."
   ],
   "metadata": {}
  },
  {
   "cell_type": "code",
   "execution_count": 59,
   "source": [
    "ita_rus = {(\"a\", \"а\"):10,\n",
    "(\"a\", \"т\"):-4,\n",
    "(\"a\", \"о\"):3,\n",
    "(\"a\", \"м\"):-3,\n",
    "(\"a\", \"Я\"):5,\n",
    "(\"a\", \"к\"):-4,\n",
    "(\"a\", \"в\"):-4,\n",
    "(\"a\", \"-\"):-1,\n",
    "\n",
    "(\"t\", \"а\"):-4,\n",
    "(\"t\", \"т\"):10,\n",
    "(\"t\", \"о\"):-4,\n",
    "(\"t\", \"м\"):-3,\n",
    "(\"t\", \"Я\"):-4,\n",
    "(\"t\", \"к\"):-1,\n",
    "(\"t\", \"в\"):-3,\n",
    "(\"t\", \"-\"):-3,\n",
    "\n",
    "(\"o\", \"а\"):4,\n",
    "(\"o\", \"т\"):-4,\n",
    "(\"o\", \"о\"):10,\n",
    "(\"o\", \"м\"):-5,\n",
    "(\"o\", \"Я\"):2,\n",
    "(\"o\", \"к\"):-4,\n",
    "(\"o\", \"в\"):-2,\n",
    "(\"o\", \"-\"):0,\n",
    "\n",
    "(\"m\", \"а\"):-2,\n",
    "(\"m\", \"т\"):-1,\n",
    "(\"m\", \"о\"):-4,\n",
    "(\"m\", \"м\"):9,\n",
    "(\"m\", \"Я\"):-3,\n",
    "(\"m\", \"к\"):-2,\n",
    "(\"m\", \"в\"):2,\n",
    "(\"m\", \"-\"):1,\n",
    "\n",
    "(\"G\", \"а\"):-3,\n",
    "(\"G\", \"т\"):1,\n",
    "(\"G\", \"о\"):-3,\n",
    "(\"G\", \"м\"):-1,\n",
    "(\"G\", \"Я\"):4,\n",
    "(\"G\", \"к\"):3,\n",
    "(\"G\", \"в\"):-2,\n",
    "(\"G\", \"-\"):2,\n",
    "\n",
    "(\"i\", \"а\"):5,\n",
    "(\"i\", \"т\"):-3,\n",
    "(\"i\", \"о\"):4,\n",
    "(\"i\", \"м\"):0,\n",
    "(\"i\", \"Я\"):6,\n",
    "(\"i\", \"к\"):-3,\n",
    "(\"i\", \"в\"):-3,\n",
    "(\"i\", \"-\"):2,\n",
    "\n",
    "(\"c\", \"а\"):-4,\n",
    "(\"c\", \"т\"):-1,\n",
    "(\"c\", \"о\"):-5,\n",
    "(\"c\", \"м\"):-4,\n",
    "(\"c\", \"Я\"):-5,\n",
    "(\"c\", \"к\"):4,\n",
    "(\"c\", \"в\"):1,\n",
    "(\"c\", \"-\"):-3,\n",
    "\n",
    "(\"-\", \"а\"):1,\n",
    "(\"-\", \"т\"):-2,\n",
    "(\"-\", \"о\"):-1,\n",
    "(\"-\", \"м\"):2,\n",
    "(\"-\", \"Я\"):2,\n",
    "(\"-\", \"к\"):-4,\n",
    "(\"-\", \"в\"):2,\n",
    "(\"-\", \"-\"):0,}\n",
    "\n",
    "ita_grk = {    \n",
    "  (\"a\", \"α\"):10,\n",
    "  (\"a\", \"-\"):-5,\n",
    "  (\"-\", \"α\"):-5,\n",
    "  (\"o\", \"α\"):4,\n",
    "  (\"i\", \"α\"):5,\n",
    "  (\"t\", \"τ\"):10,\n",
    "  (\"c\", \"τ\"):2,\n",
    "  (\"a\", \"ο\"):6,\n",
    "  (\"o\", \"ο\"):10,\n",
    "  (\"o\", \"-\"):-10,\n",
    "  (\"-\", \"ο\"):10,\n",
    "  (\"m\", \"μ\"):10,\n",
    "  (\"a\", \"Ι\"):2,\n",
    "  (\"i\", \"Ι\"):7,\n",
    "  (\"t\", \"κ\"):2,\n",
    "  (\"c\", \"κ\"):8,\n",
    "  (\"a\", \"ω\"):4,\n",
    "  (\"o\", \"ω\"):10,\n",
    "  (\"m\", \"β\"):4,\n",
    "  (\"v\", \"β\"):5,\n",
    "  (\"s\", \"ς\"):6,\n",
    "}\n",
    "    \n",
    "\n",
    "ita_rus_m = malign.ScoringMatrix(ita_rus, impute_method=\"bayesian_ridge\")\n",
    "ita_grk_m = malign.ScoringMatrix(ita_grk, impute_method=\"bayesian_ridge\")\n",
    "\n",
    "print(ita_rus_m[\"c\", \"Я\"]) # provided\n",
    "print(ita_grk_m[\"t\", \"μ\"]) # inferred\n",
    "\n",
    "# we provide a single point ita/rus/grk\n",
    "# TODO: use builder\n",
    "scores_ita_rus = {\n",
    "            (key[0], key[1], None): value\n",
    "            for key, value in ita_rus_m.scores.items()\n",
    "        }\n",
    "scores_ita_grk = {\n",
    "            (key[0], None, key[1]): value\n",
    "            for key, value in ita_grk_m.scores.items()\n",
    "        }\n",
    "scores = {**scores_ita_rus, **scores_ita_grk}\n",
    "scores[\"t\", \"т\", \"τ\"]=10\n",
    "\n",
    "irg_m = malign.ScoringMatrix(scores, impute_method=\"bayesian_ridge\")\n",
    "\n",
    "print(irg_m[\"c\", \"Я\", None]) # provided\n",
    "print(irg_m[\"t\", None, \"μ\"]) # provided\n",
    "print(irg_m[None, \"Я\", \"μ\"]) # inferred\n",
    "print(irg_m[\"a\", \"а\", \"α\"]) # inferred\n",
    "print(irg_m[\"a\", \"а\", \"-\"]) # inferred\n",
    "print(irg_m[\"a\", \"Я\", \"μ\"]) # inferred\n",
    "\n",
    "irg_m.save(\"ita_rus_grk.matrix\")\n",
    "\n",
    "m2 = malign.ScoringMatrix()\n",
    "m2.load(\"ita_rus_grk.matrix\")\n",
    "print(m2[\"c\", \"Я\", None]) # provided\n",
    "print(m2[\"t\", None, \"μ\"]) # provided\n",
    "print(m2[None, \"Я\", \"μ\"]) # inferred\n",
    "print(m2[\"a\", \"а\", \"α\"]) # inferred\n",
    "print(m2[\"a\", \"а\", \"-\"]) # inferred\n",
    "print(m2[\"a\", \"Я\", \"μ\"]) # inferred\n",
    "\n",
    "m2['a', \"Я\", None]"
   ],
   "outputs": [
    {
     "output_type": "stream",
     "name": "stdout",
     "text": [
      "-5\n",
      "4.896558388286484\n",
      "-5\n",
      "4.896558388286484\n",
      "3.4047138830199635\n",
      "2.6685413901903825\n",
      "0.9360793602201718\n",
      "3.2973558243444128\n",
      "-5.0\n",
      "4.896558388286484\n",
      "3.4047138830199635\n",
      "2.6685413901903825\n",
      "0.9360793602201718\n",
      "3.2973558243444128\n"
     ]
    },
    {
     "output_type": "execute_result",
     "data": {
      "text/plain": [
       "5.0"
      ]
     },
     "metadata": {},
     "execution_count": 59
    }
   ],
   "metadata": {}
  },
  {
   "cell_type": "markdown",
   "source": [
    "## Scoring Matrices\n",
    "\n",
    "Matrices in `malign` are ultimately just dictionaries that provide a score for alignment vectors, following an ordered list of domains (or alphabets), which are sets of symbols expressed by strings of at least one character (including the gap symbol, which for must purposes is a symbol like all others). Alignment sites can be full of partial, allowing to score sub-alignments; partial alignment vectors have the same length of the full vectors, with the unrelates sites marked by `None`. Partial alignment vectors must have at least two valid elements (and in most cases will, indeed, have only two, as used for pairwise alignments).\n",
    "\n",
    "There is not much to decide on the scores themselves, as their organization is free. By definition, the alignment of full gap vectors (that is, vectors where all non-None sites are gaps) is zero, and there is a general tendency that positively correlated sites have positive numbers and negatively correlated sites have negative numbers, but this is not mandatory. In most applications gaps are usually aligned with lower scores, but this is not necessary and, in fact, it is one of the reasons `malign` was developed.\n",
    "\n",
    "A scoring matrix might be complete or non-complete. Complete matrices are necessary for most operations and can generally be just Python dictionaries; for other cases, the `ScoringMatrix` object helps with the inference of missing data, allowing to complete a matrix.\n",
    "\n",
    "Here we create one matrix of domain two and print it. By default, the first domain is printed on the vertical."
   ],
   "metadata": {}
  },
  {
   "cell_type": "code",
   "execution_count": 60,
   "source": [
    "# Define a scoring matrix for a simple, two domain system\n",
    "# alphabet a is {'-', 'a', 'b', 'c'}, alphabet b is {'-', 'X', 'Y'}\n",
    "vectors = {\n",
    "    ('-', '-') :  0.0,\n",
    "    ('-', 'X') : -3.0,\n",
    "    ('-', 'Y') : -9.0,\n",
    "    ('a', '-') : -3.0,\n",
    "    ('a', 'X') :  0.0,\n",
    "    ('a', 'Y') :  8.0,\n",
    "    ('b', '-') : -5.0,\n",
    "    ('b', 'X') :  4.0,\n",
    "    ('b', 'Y') :  4.0,\n",
    "    ('c', '-') :  2.0,\n",
    "    ('c', 'X') : -1.0,\n",
    "    ('c', 'Y') :  7.0,\n",
    "}\n",
    "\n",
    "matrix = malign.ScoringMatrix(vectors, impute_method=\"bayesian_ridge\")\n",
    "print(matrix.tabulate())"
   ],
   "outputs": [
    {
     "output_type": "stream",
     "name": "stdout",
     "text": [
      "|    |   - |   X |   Y |\n",
      "|----|-----|-----|-----|\n",
      "| -  |   0 |  -3 |  -9 |\n",
      "| a  |  -3 |   0 |   8 |\n",
      "| b  |  -5 |   4 |   4 |\n",
      "| c  |   2 |  -1 |   7 |\n"
     ]
    }
   ],
   "metadata": {}
  },
  {
   "cell_type": "markdown",
   "source": [
    "If some vector is missing, the `ScoringMatrix` will infer it when initialized (for complete vectors) or when necessary with cache (for incomplete vectors). Different methods are offered for such inferece."
   ],
   "metadata": {}
  },
  {
   "cell_type": "code",
   "execution_count": 61,
   "source": [
    "v = vectors.copy()\n",
    "v.pop(('a', '-'))\n",
    "v.pop(('c', 'Y'))\n",
    "matrix = malign.ScoringMatrix(v, impute_method=\"bayesian_ridge\")\n",
    "print(matrix.tabulate())"
   ],
   "outputs": [
    {
     "output_type": "stream",
     "name": "stdout",
     "text": [
      "|    |           - |   X |            Y |\n",
      "|----|-------------|-----|--------------|\n",
      "| -  |  0          |  -3 | -9           |\n",
      "| a  |  0.00118102 |   0 |  8           |\n",
      "| b  | -5          |   4 |  4           |\n",
      "| c  |  2          |  -1 |  0.000980591 |\n"
     ]
    }
   ],
   "metadata": {}
  },
  {
   "cell_type": "markdown",
   "source": [
    "As seen above, we can have partial vectors, and a matrix can be initialized with them as well.\n",
    "\n",
    "We can use different filling method."
   ],
   "metadata": {}
  },
  {
   "cell_type": "code",
   "execution_count": 62,
   "source": [
    "# Define a scoring matrix for a simple, three domain system\n",
    "# alphabet a is {'-', 'a', 'b', 'c'}, alphabet b is {'-', 'X', 'Y'}, alphabet c is {'-', 'i', 'j'}\n",
    "# note that we already comment out some entries to make gaps\n",
    "vectors = {\n",
    "    ('-', '-', '-') :  0.0,\n",
    "#    ('-', '-', 'i') : -4.0,\n",
    "    (\"-\", \"-\", \"j\") : -8.0,\n",
    "\n",
    "    ('-', 'X', '-') : -5.0,\n",
    "    ('-', 'Y', '-') : -5.0,\n",
    "    ('a', '-', '-') :  0.0,\n",
    "#    ('a', 'X', '-') :  0.0,\n",
    "    ('a', 'Y', '-') :  8.0,\n",
    "    ('b', '-', '-') :  0.0,\n",
    "    ('b', 'X', '-') :  4.0,\n",
    "    ('b', 'Y', '-') :  4.0,\n",
    "    ('c', '-', '-') :  0.0,\n",
    "    ('c', 'X', '-') : -1.0,\n",
    "    ('c', 'Y', '-') : -7.0,    \n",
    "    \n",
    "    ('-', 'X', 'i') : -3.0,\n",
    "    ('-', 'Y', 'i') : -9.0,\n",
    "    ('a', '-', 'i') : -3.0,\n",
    "#    ('a', 'X', 'i') :  0.0,\n",
    "#    ('a', 'Y', 'i') :  8.0,\n",
    "    ('b', '-', 'i') : -5.0,\n",
    "    ('b', 'X', 'i') :  4.0,\n",
    "    ('b', 'Y', 'i') :  4.0,\n",
    "    ('c', '-', 'i') :  2.0,\n",
    "    ('c', 'X', 'i') : -1.0,\n",
    "    ('c', 'Y', 'i') :  7.0,\n",
    "    \n",
    "    ('-', 'X', 'j') : -5.0,\n",
    "    ('-', 'Y', 'j') : -6.0,\n",
    "    ('a', '-', 'j') :  3.0,\n",
    "    ('a', 'X', 'j') :  8.0,\n",
    "    ('a', 'Y', 'j') :  8.0,\n",
    "    ('b', '-', 'j') : -6.0,\n",
    "    ('b', 'X', 'j') :  5.0,\n",
    "    ('b', 'Y', 'j') :  4.0,\n",
    "    ('c', '-', 'j') : -5.0,\n",
    "#    ('c', 'X', 'j') :  6.0,\n",
    "    ('c', 'Y', 'j') :  7.0,\n",
    "}\n",
    "\n",
    "# TODO: have no fill method\n",
    "\n",
    "print(\"Standard fill method\")\n",
    "matrix = malign.ScoringMatrix(vectors)\n",
    "print(matrix.tabulate())\n",
    "\n",
    "print(\"Distance fill method\")\n",
    "matrix = malign.ScoringMatrix(vectors, impute_method=\"bayesian_ridge\")\n",
    "print(matrix.tabulate())"
   ],
   "outputs": [
    {
     "output_type": "stream",
     "name": "stdout",
     "text": [
      "Standard fill method\n",
      "|    |   /-/- |       /-/i |   /-/j |       /X/- |       /X/i |       /X/j |   /Y/- |       /Y/i |   /Y/j |\n",
      "|----|--------|------------|--------|------------|------------|------------|--------|------------|--------|\n",
      "| -  |      0 | -0.0322581 |     -8 | -5         | -3         | -5         |     -5 | -9         |     -6 |\n",
      "| a  |      0 | -3         |      3 | -0.0322581 | -0.0322581 |  8         |      8 | -0.0322581 |      8 |\n",
      "| b  |      0 | -5         |     -6 |  4         |  4         |  5         |      4 |  4         |      4 |\n",
      "| c  |      0 |  2         |     -5 | -1         | -1         | -0.0322581 |     -7 |  7         |      7 |\n",
      "Distance fill method\n",
      "|    |   /-/- |     /-/i |   /-/j |     /X/- |     /X/i |     /X/j |   /Y/- |     /Y/i |   /Y/j |\n",
      "|----|--------|----------|--------|----------|----------|----------|--------|----------|--------|\n",
      "| -  |      0 | -6.62851 |     -8 | -5       | -3       | -5       |     -5 | -9       |     -6 |\n",
      "| a  |      0 | -3       |      3 |  4.17132 |  3.82986 |  8       |      8 |  4.07002 |      8 |\n",
      "| b  |      0 | -5       |     -6 |  4       |  4       |  5       |      4 |  4       |      4 |\n",
      "| c  |      0 |  2       |     -5 | -1       | -1       |  1.62256 |     -7 |  7       |      7 |\n"
     ]
    }
   ],
   "metadata": {}
  },
  {
   "cell_type": "markdown",
   "source": [
    "`ScoringMatrix` also much facilitate the inferece of full alignments from collections of partial alignments, as might be available in most cases, such as when performing initial training. These can be combined with any number of actual full alignment. The partial alignments can also be sparse and it is possible to have complete missing data, as for the 12 domain below.\n",
    "\n",
    "Note the difference between individual pairwise scorers and a full one."
   ],
   "metadata": {}
  },
  {
   "cell_type": "code",
   "execution_count": 63,
   "source": [
    "vector_01 = {\n",
    "    ('-', 'X') : -3.0,\n",
    "    ('a', '-') : -3.0,\n",
    "    ('a', 'X') :  0.0,\n",
    "    ('a', 'Y') :  8.0,\n",
    "    ('b', '-') : -5.0,\n",
    "    ('b', 'Y') :  4.0,\n",
    "    ('c', 'X') : -1.0,\n",
    "    ('c', 'Y') :  7.0,\n",
    "}\n",
    "vector_02 = {\n",
    "    ('a', '-') : -4.0,\n",
    "    ('a', 'i') :  2.0,\n",
    "    ('a', 'j') :  2.0,\n",
    "    ('b', 'i') : -5.0,\n",
    "    ('b', 'j') :  9.0,\n",
    "    ('c', '-') : -7.0,\n",
    "    ('c', 'j') :  4.0,\n",
    "}\n",
    "\n",
    "print(\"Matrix (0,1)\")\n",
    "matrix01 = malign.ScoringMatrix(vector_01)\n",
    "print(matrix01.tabulate())\n",
    "\n",
    "print(\"Matrix (0,2)\")\n",
    "matrix02 = malign.ScoringMatrix(vector_02)\n",
    "print(matrix02.tabulate())\n",
    "\n",
    "print(\"Matrix (0,1,2)\")\n",
    "# TODO: use compounder\n",
    "scores_01 = {\n",
    "            (key[0], key[1], None): value\n",
    "            for key, value in matrix01.scores.items()\n",
    "        }\n",
    "scores_02 = {\n",
    "            (key[0], None, key[1]): value\n",
    "            for key, value in matrix02.scores.items()\n",
    "        }\n",
    "scores = {**scores_01, **scores_02}\n",
    "\n",
    "matrix = malign.ScoringMatrix(scores, impute_method=\"bayesian_ridge\")\n",
    "print(matrix.tabulate())"
   ],
   "outputs": [
    {
     "output_type": "stream",
     "name": "stdout",
     "text": [
      "Matrix (0,1)\n",
      "|    |         - |         X |        Y |\n",
      "|----|-----------|-----------|----------|\n",
      "| -  |  0        | -3        | 0.777778 |\n",
      "| a  | -3        |  0        | 8        |\n",
      "| b  | -5        |  0.777778 | 4        |\n",
      "| c  |  0.777778 | -1        | 7        |\n",
      "Matrix (0,2)\n",
      "|    |      - |      i |     j |\n",
      "|----|--------|--------|-------|\n",
      "| -  |  0     |  0.125 | 0.125 |\n",
      "| a  | -4     |  2     | 2     |\n",
      "| b  |  0.125 | -5     | 9     |\n",
      "| c  | -7     |  0.125 | 4     |\n",
      "Matrix (0,1,2)\n",
      "|    |      /-/- |      /-/i |    /-/j |      /X/- |      /X/i |    /X/j |     /Y/- |    /Y/i |    /Y/j |\n",
      "|----|-----------|-----------|---------|-----------|-----------|---------|----------|---------|---------|\n",
      "| -  |  0        | -0.811343 | 0.79488 | -1.18201  | -0.579    | 1.02722 | 0.884738 | 1.48775 | 3.09397 |\n",
      "| a  | -0.991012 | -0.388002 | 1.21822 | -0.758669 | -0.15566  | 1.45056 | 1.30808  | 1.91109 | 3.51731 |\n",
      "| b  | -1.07459  | -0.471577 | 1.13465 | -0.842244 | -0.239235 | 1.36699 | 1.2245   | 1.82751 | 3.43374 |\n",
      "| c  | -1.07459  | -0.471577 | 1.13465 | -0.842244 | -0.239235 | 1.36699 | 1.2245   | 1.82751 | 3.43374 |\n"
     ]
    }
   ],
   "metadata": {}
  },
  {
   "cell_type": "markdown",
   "source": [
    "We can also quickly compute identity matrices when all domains are the same. They are automatically computed from list of sequences/sets for all domains."
   ],
   "metadata": {}
  },
  {
   "cell_type": "code",
   "execution_count": 64,
   "source": [
    "seqs = [\"ab\", \"aab\", \"bbb\"]\n",
    "\n",
    "id_matrix = malign.utils.identity_matrix(seqs, match=2, gap_score=-3)\n",
    "print(id_matrix.tabulate())"
   ],
   "outputs": [
    {
     "output_type": "stream",
     "name": "stdout",
     "text": [
      "|    |   /-/- |   /-/a |   /-/b |   /a/- |   /a/a |   /a/b |   /b/- |   /b/a |   /b/b |\n",
      "|----|--------|--------|--------|--------|--------|--------|--------|--------|--------|\n",
      "| -  |      0 |     -3 |     -3 |     -3 |      8 |     -3 |     -3 |     -3 |      8 |\n",
      "| a  |     -3 |      8 |      1 |      8 |     27 |      8 |      1 |      8 |      8 |\n",
      "| b  |     -3 |      1 |      8 |      1 |      8 |      8 |      8 |      8 |     27 |\n"
     ]
    }
   ],
   "metadata": {}
  }
 ],
 "metadata": {
  "kernelspec": {
   "name": "python3",
   "display_name": "Python 3.8.10 64-bit ('env': venv)"
  },
  "language_info": {
   "codemirror_mode": {
    "name": "ipython",
    "version": 3
   },
   "file_extension": ".py",
   "mimetype": "text/x-python",
   "name": "python",
   "nbconvert_exporter": "python",
   "pygments_lexer": "ipython3",
   "version": "3.8.10"
  },
  "interpreter": {
   "hash": "b37c113ce6c36e1ca99c43f27b193dfcb10be23cd4f2a47f0b7d0b3446dbda4e"
  }
 },
 "nbformat": 4,
 "nbformat_minor": 4
}