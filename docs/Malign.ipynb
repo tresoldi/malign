{
 "cells": [
  {
   "cell_type": "markdown",
   "metadata": {},
   "source": [
    "# Malign\n",
    "\n",
    "`malign` is a set of experimental methods for sequence alignment that allow:\n",
    "    \n",
    "- a unique alphabet for each sequence\n",
    "- computation of k-best alignments\n",
    "- usage of assymetric information\n",
    "- perform single-pass true multiple alignment (instead of combination of pairwise)\n",
    "- while usable with any type of sequence, including biological, it is intended for linguistic usage mostly\n",
    "\n",
    "This notebook explores ideas on how to use it."
   ]
  },
  {
   "cell_type": "code",
   "execution_count": 1,
   "metadata": {},
   "outputs": [],
   "source": [
    "# Import the library\n",
    "import malign\n",
    "from malign import print_alms, print_malms"
   ]
  },
  {
   "cell_type": "markdown",
   "metadata": {},
   "source": [
    "The most stupid alignment method implemented in `malign` is the \"dumb\" one. It returns a single alignment for a number of sequences, padding spaces to the left and right without even considering the values of the sequences. It is used for bootstrapping a number of other alignment methods."
   ]
  },
  {
   "cell_type": "code",
   "execution_count": 2,
   "metadata": {
    "scrolled": false
   },
   "outputs": [
    {
     "name": "stdout",
     "output_type": "stream",
     "text": [
      "A 0 (0.50 / 0.50): - t r a - -\n",
      "B 0 (0.50 / 0.50): f a t a t a\n",
      "0 A {'seq': ['-', 't', 'r', 'a', '-', '-'], 'score': 0.5}\n",
      "0 B {'seq': ['-', 'f', 'r', 'a', '-', '-'], 'score': 0.5}\n",
      "0 C {'seq': ['b', 'a', 't', 'a', 't', 'a'], 'score': 1.0}\n",
      "0 D {'seq': ['-', 'v', 'i', 'r', 'p', '-'], 'score': 0.6666666666666667}\n",
      "0 E {'seq': ['-', '-', 'x', '-', '-', '-'], 'score': 0.16666666666666663}\n"
     ]
    }
   ],
   "source": [
    "# Perform pairwise dumb alignment\n",
    "seq_a = 'tra'\n",
    "seq_b = 'fatata'\n",
    "print_alms(malign.pw_align(seq_a, seq_b, method=\"dumb\"))\n",
    "\n",
    "# Perform multiwise dumb alignment\n",
    "seqs = ['tra', 'fra', 'batata', 'virp', 'x']\n",
    "print_malms(malign.multi_align(seqs, method=\"dumb\"))"
   ]
  },
  {
   "cell_type": "markdown",
   "metadata": {},
   "source": [
    "New advanced methods begin with our modified Needleman-Wunsch. The methods work on multidimensional transition matrices that include all symbols and gaps. All correspondences must be provided, even when dealing with the same alphabet.\n",
    "\n",
    "For illustration, let's start with a common DNA base matrix for pairwise sequence alignment:\n",
    "\n",
    "  |   | A  |  G |  C |  T | -  |\n",
    "  |---|----|----|----|----|----|\n",
    "  | A | 10 | -1 | -3 | -4 | -5 |\n",
    "  | G | -1 | 7  | -5 | -3 | -5 |\n",
    "  | C | -3 | -5 | 9  |  0 | -5 |\n",
    "  | T | -4 | -3 |  0 |  8 |-5  |\n",
    "  | - | -5 | -5 | -5 | -5 | 0  |\n",
    "\n",
    "Note that in this case the matrix is symmetric, but this is not necessary as we'll see later. This matrix is available as `malign.utils.DNA_MATRIX`.\n",
    "\n",
    "Here we start by performing some pairwise alignments on very simple genetic sequences. Note that the parameter `k` allows to return at most k alignments, in terms of best scores, if those are computed. This method is different from normal WN algorithm because it first computes alignments in terms of `seq_a` to `seq_b`, then in terms of `seq_b` to `seq_a`, and takes the mean score as representatitve of the alignment. The results are equal in this case, as the matrix is symmetric."
   ]
  },
  {
   "cell_type": "code",
   "execution_count": 3,
   "metadata": {},
   "outputs": [
    {
     "name": "stdout",
     "output_type": "stream",
     "text": [
      "===== Alignment 1\n",
      "A 0 (0.00 / -4.00): G A T T A C A\n",
      "B 0 (-8.00 / -4.00): - - - - - - A\n",
      "A 1 (0.00 / -5.00): G A T T A C A\n",
      "B 1 (-10.00 / -5.00): - - - - A - -\n",
      "===== Alignment 2\n",
      "A 0 (0.00 / -4.50): G A T T A C A\n",
      "B 0 (-9.00 / -4.50): - A T T - T -\n"
     ]
    }
   ],
   "source": [
    "# Perform pairwise, modifier NW alignment\n",
    "print(\"===== Alignment 1\")\n",
    "seq_a = \"GATTACA\"\n",
    "seq_b = \"A\"\n",
    "print_alms(malign.pw_align(seq_a, seq_b, k=2, method=\"nw\", matrix=malign.utils.DNA_MATRIX))\n",
    "\n",
    "print(\"===== Alignment 2\")\n",
    "seq_a = \"GATTACA\"\n",
    "seq_b = \"ATTT\"\n",
    "print_alms(malign.pw_align(seq_a, seq_b, k=2, method=\"nw\", matrix=malign.utils.DNA_MATRIX))"
   ]
  },
  {
   "cell_type": "markdown",
   "metadata": {},
   "source": [
    "But what if the matrix is not symmetric? This is not usually the case for genetic data, but let's for sake of experience simulate a condition where sequence B never has a T aligned with a C (from the \"point of view\" of A, the normal affinities hold). We simulate this by changing the matrix for (C, T), which is now different (not symmmetric) from (T, C), and check the results."
   ]
  },
  {
   "cell_type": "code",
   "execution_count": 6,
   "metadata": {},
   "outputs": [
    {
     "name": "stdout",
     "output_type": "stream",
     "text": [
      "A 0 (-3.00 / -5.50): G A - T T A C A\n",
      "B 0 (-8.00 / -5.50): - A T T T - - -\n",
      "A 1 (-3.00 / -5.50): G A T - T A C A\n",
      "B 1 (-8.00 / -5.50): - A T T T - - -\n",
      "A 2 (-3.00 / -5.50): G A T T - A C A\n",
      "B 2 (-8.00 / -5.50): - A T T T - - -\n",
      "A 3 (-3.00 / -5.50): G A T T A C A -\n",
      "B 3 (-8.00 / -5.50): - A T T - - - T\n"
     ]
    }
   ],
   "source": [
    "# Perform pairwise, assymetric NW\n",
    "matrix = malign.utils.DNA_MATRIX.copy()\n",
    "matrix['C', 'T'] = -99\n",
    "print_alms(malign.pw_align(seq_a, seq_b, k=4, method=\"nw\", matrix=matrix))"
   ]
  },
  {
   "cell_type": "markdown",
   "metadata": {},
   "source": [
    "You can see that the algorithm now does its best not to align a C in sequence a to a T in sequence B. This can go to extremes, as in the first example below, even though the inverse alignment still work as it commonly does."
   ]
  },
  {
   "cell_type": "code",
   "execution_count": 8,
   "metadata": {},
   "outputs": [
    {
     "name": "stdout",
     "output_type": "stream",
     "text": [
      "===== Alignment 1\n",
      "A 0 (-3.00 / -3.00): G A T T A - C A\n",
      "B 0 (-3.00 / -3.00): G A T T A T - A\n",
      "A 1 (-3.00 / -3.00): G A T T A C - A\n",
      "B 1 (-3.00 / -3.00): G A T T A - T A\n",
      "===== Alignment 2\n",
      "A 0 (0.00 / 0.00): G A T T A T A\n",
      "B 0 (0.00 / 0.00): G A T T A C A\n"
     ]
    }
   ],
   "source": [
    "print(\"===== Alignment 1\")\n",
    "print_alms(malign.pw_align(\"GATTACA\", \"GATTATA\", k=2, method=\"nw\", matrix=matrix))\n",
    "print(\"===== Alignment 2\")\n",
    "print_alms(malign.pw_align(\"GATTATA\", \"GATTACA\", k=2, method=\"nw\", matrix=matrix))"
   ]
  }
 ],
 "metadata": {
  "kernelspec": {
   "display_name": "Python 3",
   "language": "python",
   "name": "python3"
  },
  "language_info": {
   "codemirror_mode": {
    "name": "ipython",
    "version": 3
   },
   "file_extension": ".py",
   "mimetype": "text/x-python",
   "name": "python",
   "nbconvert_exporter": "python",
   "pygments_lexer": "ipython3",
   "version": "3.7.7"
  }
 },
 "nbformat": 4,
 "nbformat_minor": 4
}
