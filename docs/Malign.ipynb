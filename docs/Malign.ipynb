{
 "cells": [
  {
   "cell_type": "markdown",
   "metadata": {},
   "source": [
    "# Malign\n",
    "\n",
    "`malign` is a set of experimental methods for sequence alignment that allow:\n",
    "    \n",
    "- a unique alphabet for each sequence\n",
    "- computation of k-best alignments\n",
    "- usage of assymetric information\n",
    "- perform single-pass true multiple alignment (instead of combination of pairwise)\n",
    "- while usable with any type of sequence, including biological, it is intended for linguistic usage mostly\n",
    "\n",
    "This notebook explores ideas on how to use it."
   ]
  },
  {
   "cell_type": "code",
   "execution_count": 1,
   "metadata": {},
   "outputs": [],
   "source": [
    "# Import the library\n",
    "import malign\n",
    "from malign import print_alms, print_malms"
   ]
  },
  {
   "cell_type": "markdown",
   "metadata": {},
   "source": [
    "The most stupid alignment method implemented in `malign` is the \"dumb\" one. It returns a single alignment for a number of sequences, padding spaces to the left and right without even considering the values of the sequences. It is used for bootstrapping a number of other alignment methods."
   ]
  },
  {
   "cell_type": "code",
   "execution_count": 2,
   "metadata": {
    "scrolled": false
   },
   "outputs": [
    {
     "name": "stdout",
     "output_type": "stream",
     "text": [
      "A 0 (0.50 / 0.50): - t r a - -\n",
      "B 0 (0.50 / 0.50): f a t a t a\n",
      "0 A (0.57) : ['-', 't', 'r', 'a', '-', '-']\n",
      "0 B (0.57) : ['-', 'f', 'r', 'a', '-', '-']\n",
      "0 C (0.57) : ['b', 'a', 't', 'a', 't', 'a']\n",
      "0 D (0.57) : ['-', 'v', 'i', 'r', 'p', '-']\n",
      "0 E (0.57) : ['-', '-', 'x', '-', '-', '-']\n"
     ]
    }
   ],
   "source": [
    "# Perform pairwise dumb alignment\n",
    "seq_a = 'tra'\n",
    "seq_b = 'fatata'\n",
    "print_alms(malign.pw_align(seq_a, seq_b, method=\"dumb\"))\n",
    "\n",
    "# Perform multiwise dumb alignment\n",
    "seqs = ['tra', 'fra', 'batata', 'virp', 'x']\n",
    "print_malms(malign.multi_align(seqs, method=\"dumb\"))"
   ]
  },
  {
   "cell_type": "markdown",
   "metadata": {},
   "source": [
    "New advanced methods begin with our modified Needleman-Wunsch. The methods work on multidimensional transition matrices that include all symbols and gaps. All correspondences must be provided, even when dealing with the same alphabet.\n",
    "\n",
    "For illustration, let's start with a common DNA base matrix for pairwise sequence alignment:\n",
    "\n",
    "  |   | A  |  G |  C |  T | -  |\n",
    "  |---|----|----|----|----|----|\n",
    "  | A | 10 | -1 | -3 | -4 | -5 |\n",
    "  | G | -1 | 7  | -5 | -3 | -5 |\n",
    "  | C | -3 | -5 | 9  |  0 | -5 |\n",
    "  | T | -4 | -3 |  0 |  8 |-5  |\n",
    "  | - | -5 | -5 | -5 | -5 | 0  |\n",
    "\n",
    "Note that in this case the matrix is symmetric, but this is not necessary as we'll see later. This matrix is available as `malign.utils.DNA_MATRIX`.\n",
    "\n",
    "Here we start by performing some pairwise alignments on very simple genetic sequences. Note that the parameter `k` allows to return at most k alignments, in terms of best scores, if those are computed. This method is different from normal WN algorithm because it first computes alignments in terms of `seq_a` to `seq_b`, then in terms of `seq_b` to `seq_a`, and takes the mean score as representatitve of the alignment. The results are equal in this case, as the matrix is symmetric."
   ]
  },
  {
   "cell_type": "code",
   "execution_count": 3,
   "metadata": {},
   "outputs": [
    {
     "name": "stdout",
     "output_type": "stream",
     "text": [
      "===== Alignment 1\n",
      "A 0 (0.00 / -4.00): G A T T A C A\n",
      "B 0 (-8.00 / -4.00): - - - - - - A\n",
      "A 1 (0.00 / -5.00): G A T T A C A\n",
      "B 1 (-10.00 / -5.00): - - - - A - -\n",
      "===== Alignment 2\n",
      "A 0 (0.00 / -4.50): G A T T A C A\n",
      "B 0 (-9.00 / -4.50): - A T T - T -\n"
     ]
    }
   ],
   "source": [
    "# Perform pairwise, modifier NW alignment\n",
    "print(\"===== Alignment 1\")\n",
    "seq_a = \"GATTACA\"\n",
    "seq_b = \"A\"\n",
    "print_alms(malign.pw_align(seq_a, seq_b, k=2, method=\"nw\", matrix=malign.utils.DNA_MATRIX))\n",
    "\n",
    "print(\"===== Alignment 2\")\n",
    "seq_a = \"GATTACA\"\n",
    "seq_b = \"ATTT\"\n",
    "print_alms(malign.pw_align(seq_a, seq_b, k=2, method=\"nw\", matrix=malign.utils.DNA_MATRIX))"
   ]
  },
  {
   "cell_type": "markdown",
   "metadata": {},
   "source": [
    "But what if the matrix is not symmetric? This is not usually the case for genetic data, but let's for sake of experience simulate a condition where sequence B never has a T aligned with a C (from the \"point of view\" of A, the normal affinities hold). We simulate this by changing the matrix for (C, T), which is now different (not symmmetric) from (T, C), and check the results."
   ]
  },
  {
   "cell_type": "code",
   "execution_count": 4,
   "metadata": {},
   "outputs": [
    {
     "name": "stdout",
     "output_type": "stream",
     "text": [
      "A 0 (-3.00 / -5.50): G A - T T A C A\n",
      "B 0 (-8.00 / -5.50): - A T T T - - -\n",
      "A 1 (-3.00 / -5.50): G A T - T A C A\n",
      "B 1 (-8.00 / -5.50): - A T T T - - -\n",
      "A 2 (-3.00 / -5.50): G A T T - A C A\n",
      "B 2 (-8.00 / -5.50): - A T T T - - -\n",
      "A 3 (-3.00 / -5.50): G A T T A C A -\n",
      "B 3 (-8.00 / -5.50): - A T T - - - T\n"
     ]
    }
   ],
   "source": [
    "# Perform pairwise, assymetric NW\n",
    "matrix = malign.utils.DNA_MATRIX.copy()\n",
    "matrix['C', 'T'] = -99\n",
    "print_alms(malign.pw_align(seq_a, seq_b, k=4, method=\"nw\", matrix=matrix))"
   ]
  },
  {
   "cell_type": "markdown",
   "metadata": {},
   "source": [
    "You can see that the algorithm now does its best not to align a C in sequence a to a T in sequence B. This can go to extremes, as in the first example below, even though the inverse alignment still work as it commonly does."
   ]
  },
  {
   "cell_type": "code",
   "execution_count": 5,
   "metadata": {},
   "outputs": [
    {
     "name": "stdout",
     "output_type": "stream",
     "text": [
      "===== Alignment 1\n",
      "A 0 (-3.00 / -3.00): G A T T A - C A\n",
      "B 0 (-3.00 / -3.00): G A T T A T - A\n",
      "A 1 (-3.00 / -3.00): G A T T A C - A\n",
      "B 1 (-3.00 / -3.00): G A T T A - T A\n",
      "===== Alignment 2\n",
      "A 0 (0.00 / 0.00): G A T T A T A\n",
      "B 0 (0.00 / 0.00): G A T T A C A\n"
     ]
    }
   ],
   "source": [
    "print(\"===== Alignment 1\")\n",
    "print_alms(malign.pw_align(\"GATTACA\", \"GATTATA\", k=2, method=\"nw\", matrix=matrix))\n",
    "print(\"===== Alignment 2\")\n",
    "print_alms(malign.pw_align(\"GATTATA\", \"GATTACA\", k=2, method=\"nw\", matrix=matrix))"
   ]
  },
  {
   "cell_type": "markdown",
   "metadata": {},
   "source": [
    "The assymetry starts to make more sense when we start dealing with different alphabets, or at least with sequences that indeed from different domains. Take the example below, manually crafted, where we prepare a matrix to align the orthography of Italian and Russian cognates, both written with the standard orthographies. Note how the matrix is assymetric even in terms of gaps: there are some cases where a gap is more or less likely in the correspondence -- sometimes they are even higher than the correspondence to other graphemes.\n",
    "\n",
    "  |   | а  |  т |  о |  м | Я  | к  | в  | -  |\n",
    "  |---|----|----|----|----|----|----|----|----|\n",
    "  | a | 10 | -4 |  3 | -3 | 5  | -4 | -4 | -1 |\n",
    "  | t | -4 | 10 | -4 | -3 | -4 | -1 | -3 | -3 |\n",
    "  | o |  4 | -4 | 10 | -5 | 2  | -4 | -2 | 0  |\n",
    "  | m | -2 | -1 | -4 |  9 |-3  | -2 | 2  | 1  |\n",
    "  | G | -3 | 1  | -3 | -1 | 4  | 3  | -2 | 2  |\n",
    "  | i | 5  | -3 | 4  | 0  | 6  | -3 | -3 | 2  |\n",
    "  | c | -4 | -1 | -5 | -4 | -5 | 4  | 1  | -3 |\n",
    "  | - | 1  | -2 | -1 | 2  | 2  | -4 | 2  | 0  |"
   ]
  },
  {
   "cell_type": "code",
   "execution_count": 6,
   "metadata": {},
   "outputs": [
    {
     "name": "stdout",
     "output_type": "stream",
     "text": [
      "===== Alignment 1\n",
      "A 0 (0.00 / -1.50): a t o m o\n",
      "B 0 (-3.00 / -1.50): а т о м -\n",
      "===== Alignment 2\n",
      "A 0 (0.00 / -4.50): G i a c o m o\n",
      "B 0 (-9.00 / -4.50): - Я - к о в -\n"
     ]
    }
   ],
   "source": [
    "matrix = {(\"a\", \"а\"):10,\n",
    "(\"a\", \"т\"):-4,\n",
    "(\"a\", \"о\"):3,\n",
    "(\"a\", \"м\"):-3,\n",
    "(\"a\", \"Я\"):5,\n",
    "(\"a\", \"к\"):-4,\n",
    "(\"a\", \"в\"):-4,\n",
    "(\"a\", \"-\"):-1,\n",
    "\n",
    "(\"t\", \"а\"):-4,\n",
    "(\"t\", \"т\"):10,\n",
    "(\"t\", \"о\"):-4,\n",
    "(\"t\", \"м\"):-3,\n",
    "(\"t\", \"Я\"):-4,\n",
    "(\"t\", \"к\"):-1,\n",
    "(\"t\", \"в\"):-3,\n",
    "(\"t\", \"-\"):-3,\n",
    "\n",
    "(\"o\", \"а\"):4,\n",
    "(\"o\", \"т\"):-4,\n",
    "(\"o\", \"о\"):10,\n",
    "(\"o\", \"м\"):-5,\n",
    "(\"o\", \"Я\"):2,\n",
    "(\"o\", \"к\"):-4,\n",
    "(\"o\", \"в\"):-2,\n",
    "(\"o\", \"-\"):0,\n",
    "\n",
    "(\"m\", \"а\"):-2,\n",
    "(\"m\", \"т\"):-1,\n",
    "(\"m\", \"о\"):-4,\n",
    "(\"m\", \"м\"):9,\n",
    "(\"m\", \"Я\"):-3,\n",
    "(\"m\", \"к\"):-2,\n",
    "(\"m\", \"в\"):2,\n",
    "(\"m\", \"-\"):1,\n",
    "\n",
    "(\"G\", \"а\"):-3,\n",
    "(\"G\", \"т\"):1,\n",
    "(\"G\", \"о\"):-3,\n",
    "(\"G\", \"м\"):-1,\n",
    "(\"G\", \"Я\"):4,\n",
    "(\"G\", \"к\"):3,\n",
    "(\"G\", \"в\"):-2,\n",
    "(\"G\", \"-\"):2,\n",
    "\n",
    "(\"i\", \"а\"):5,\n",
    "(\"i\", \"т\"):-3,\n",
    "(\"i\", \"о\"):4,\n",
    "(\"i\", \"м\"):0,\n",
    "(\"i\", \"Я\"):6,\n",
    "(\"i\", \"к\"):-3,\n",
    "(\"i\", \"в\"):-3,\n",
    "(\"i\", \"-\"):2,\n",
    "\n",
    "(\"c\", \"а\"):-4,\n",
    "(\"c\", \"т\"):-1,\n",
    "(\"c\", \"о\"):-5,\n",
    "(\"c\", \"м\"):-4,\n",
    "(\"c\", \"Я\"):-5,\n",
    "(\"c\", \"к\"):4,\n",
    "(\"c\", \"в\"):1,\n",
    "(\"c\", \"-\"):-3,\n",
    "\n",
    "(\"-\", \"а\"):1,\n",
    "(\"-\", \"т\"):-2,\n",
    "(\"-\", \"о\"):-1,\n",
    "(\"-\", \"м\"):2,\n",
    "(\"-\", \"Я\"):2,\n",
    "(\"-\", \"к\"):-4,\n",
    "(\"-\", \"в\"):2,\n",
    "(\"-\", \"-\"):0,}\n",
    "\n",
    "print(\"===== Alignment 1\")\n",
    "print_alms(malign.pw_align(\"atomo\", \"атом\", k=2, method=\"nw\", matrix=matrix))\n",
    "print(\"===== Alignment 2\")\n",
    "print_alms(malign.pw_align(\"Giacomo\", \"Яков\", k=4, method=\"nw\", matrix=matrix))"
   ]
  },
  {
   "cell_type": "markdown",
   "metadata": {},
   "source": [
    "We can combine more domains for a multiple NW alignment; unlike most multiple NW methods, we don't build a tree internally because an evolutionary perspective does not necessarily apply in our cases (even in face of a unrooted tree); details are provided in the paper. Here we extend our matrix a bit with Greek cognates. Note that, for showcasing, we are only setting the actual correspondences, guiding the alignment a bit too much, and letting the algorithm fill the missing parts. Note that we add correspondences to two graphemes in Italian, \"v\", \"s\" which were not used in the example above."
   ]
  },
  {
   "cell_type": "code",
   "execution_count": 8,
   "metadata": {
    "scrolled": true
   },
   "outputs": [
    {
     "name": "stdout",
     "output_type": "stream",
     "text": [
      "('-', 'к', 'ο') -4.5\n",
      "('i', 'а', 'Ι') 6.0\n",
      "('m', 'в', 'β') 2.5\n",
      "===== Alignment 1\n",
      "0 A (7.60) : ('a', 't', 'o', 'm', 'o')\n",
      "0 B (7.60) : ('а', 'т', 'о', '-', 'м')\n",
      "0 C (7.60) : ('α', 'τ', 'ο', 'μ', 'ο')\n",
      "1 A (8.90) : ('a', 't', 'o', 'm', 'o')\n",
      "1 B (8.90) : ('а', 'т', 'о', 'м', '-')\n",
      "1 C (8.90) : ('α', 'τ', 'ο', 'μ', 'ο')\n",
      "===== Alignment 2\n",
      "0 A (3.67) : ('G', 'i', 'a', 'c', 'o', 'm', 'o', '-')\n",
      "0 B (3.67) : ('-', '-', 'Я', '-', '-', 'к', 'о', 'в')\n",
      "0 C (3.67) : ('-', 'Ι', 'α', 'κ', 'ω', 'β', 'ο', 'ς')\n",
      "1 A (4.30) : ('G', 'i', 'a', 'c', 'o', 'm', 'o', '-')\n",
      "1 B (4.30) : ('-', '-', 'Я', 'к', '-', '-', 'о', 'в')\n",
      "1 C (4.30) : ('-', 'Ι', 'α', 'κ', 'ω', 'β', 'ο', 'ς')\n",
      "2 A (4.05) : ('G', 'i', 'a', 'c', 'o', 'm', 'o', '-')\n",
      "2 B (4.05) : ('-', '-', 'Я', 'к', 'о', '-', 'в', '-')\n",
      "2 C (4.05) : ('-', 'Ι', 'α', 'κ', 'ω', 'β', 'ο', 'ς')\n",
      "3 A (3.92) : ('G', 'i', 'a', 'c', 'o', 'm', 'o', '-')\n",
      "3 B (3.92) : ('-', 'Я', '-', 'к', 'о', '-', 'в', '-')\n",
      "3 C (3.92) : ('-', 'Ι', 'α', 'κ', 'ω', 'β', 'ο', 'ς')\n"
     ]
    }
   ],
   "source": [
    "# Build a very simple Italian <-> Greek matrix\n",
    "\n",
    "italian_greek = {    \n",
    "  (\"a\", \"α\"):10,\n",
    "  (\"o\", \"α\"):4,\n",
    "  (\"i\", \"α\"):5,\n",
    "  (\"t\", \"τ\"):10,\n",
    "  (\"c\", \"τ\"):2,\n",
    "  (\"a\", \"ο\"):6,\n",
    "  (\"o\", \"ο\"):10,\n",
    "  (\"i\", \"ο\"):3,\n",
    "  (\"m\", \"μ\"):10,\n",
    "  (\"a\", \"Ι\"):2,\n",
    "  (\"i\", \"Ι\"):7,\n",
    "  (\"t\", \"κ\"):2,\n",
    "  (\"c\", \"κ\"):8,\n",
    "  (\"a\", \"ω\"):4,\n",
    "  (\"o\", \"ω\"):10,\n",
    "  (\"m\", \"β\"):3,\n",
    "  (\"v\", \"β\"):5,\n",
    "  (\"s\", \"ς\"):-3,\n",
    "}\n",
    "    \n",
    "# Fill the matrix\n",
    "ita_alphabet = list(set([key[0] for key in italian_greek]))\n",
    "grk_alphabet = list(set([key[1] for key in italian_greek]))\n",
    "italian_greek = malign.utils.fill_matrix(ita_alphabet, grk_alphabet, italian_greek, mismatch=-5, gap=-5)\n",
    "\n",
    "# Combine the two matrices into a single one, show a couple of examples\n",
    "full_matrix = malign.utils.combine_matrices(matrix, italian_greek)\n",
    "for key in [('-', 'к', 'ο'), ('i', 'а', 'Ι'), ('m', 'в', 'β')]:\n",
    "    print(key, full_matrix[key])\n",
    "\n",
    "# Do maligns\n",
    "print(\"===== Alignment 1\")\n",
    "seqs = ['atomo', \"атом\", \"ατομο\"]\n",
    "print_malms(malign.multi_align(seqs, method=\"nw\", k=4, matrix=full_matrix))\n",
    "\n",
    "print(\"===== Alignment 2\")\n",
    "seqs = [\"Giacomo\", \"Яков\", \"Ιακωβος\"]\n",
    "print_malms(malign.multi_align(seqs, method=\"nw\", k=4, matrix=full_matrix))\n",
    "    \n",
    "\n",
    "\n"
   ]
  }
 ],
 "metadata": {
  "kernelspec": {
   "display_name": "Python 3",
   "language": "python",
   "name": "python3"
  },
  "language_info": {
   "codemirror_mode": {
    "name": "ipython",
    "version": 3
   },
   "file_extension": ".py",
   "mimetype": "text/x-python",
   "name": "python",
   "nbconvert_exporter": "python",
   "pygments_lexer": "ipython3",
   "version": "3.7.7"
  }
 },
 "nbformat": 4,
 "nbformat_minor": 4
}
